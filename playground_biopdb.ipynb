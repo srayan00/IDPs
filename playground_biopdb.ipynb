{
 "cells": [
  {
   "cell_type": "code",
   "execution_count": 2,
   "metadata": {},
   "outputs": [],
   "source": [
    "import pandas as pd\n",
    "import numpy as np\n",
    "import os\n",
    "import sys\n",
    "import gzip\n",
    "import shutil\n",
    "import json\n",
    "import re\n",
    "import tmalign_mapping\n",
    "import Bio.PDB as bpdb"
   ]
  },
  {
   "cell_type": "code",
   "execution_count": 19,
   "metadata": {},
   "outputs": [],
   "source": [
    "filepath_sample = \"/nfs/turbo/lsa-tewaria/uniprot/CO5_HUMAN/3hqa.cif\"\n",
    "parser = bpdb.MMCIFParser()"
   ]
  },
  {
   "cell_type": "code",
   "execution_count": 20,
   "metadata": {},
   "outputs": [],
   "source": [
    "structure=parser.get_structure(\"3hqa\", filepath_sample)"
   ]
  },
  {
   "cell_type": "code",
   "execution_count": 21,
   "metadata": {},
   "outputs": [
    {
     "name": "stdout",
     "output_type": "stream",
     "text": [
      "[<Chain id=A>, <Chain id=B>]\n"
     ]
    }
   ],
   "source": [
    "res_list= bpdb.Selection.unfold_entities(structure, \"C\")\n",
    "print(res_list)"
   ]
  },
  {
   "cell_type": "code",
   "execution_count": 22,
   "metadata": {},
   "outputs": [
    {
     "name": "stdout",
     "output_type": "stream",
     "text": [
      "[<Residue GLN het=  resseq=3 icode= >, <Residue LYS het=  resseq=4 icode= >, <Residue LYS het=  resseq=5 icode= >, <Residue ILE het=  resseq=6 icode= >, <Residue GLU het=  resseq=7 icode= >, <Residue GLU het=  resseq=8 icode= >, <Residue ILE het=  resseq=9 icode= >, <Residue ALA het=  resseq=10 icode= >, <Residue ALA het=  resseq=11 icode= >, <Residue LYS het=  resseq=12 icode= >, <Residue TYR het=  resseq=13 icode= >, <Residue LYS het=  resseq=14 icode= >, <Residue HIS het=  resseq=15 icode= >, <Residue SER het=  resseq=16 icode= >, <Residue VAL het=  resseq=17 icode= >, <Residue VAL het=  resseq=18 icode= >, <Residue LYS het=  resseq=19 icode= >, <Residue LYS het=  resseq=20 icode= >, <Residue CYS het=  resseq=21 icode= >, <Residue CYS het=  resseq=22 icode= >, <Residue TYR het=  resseq=23 icode= >, <Residue ASP het=  resseq=24 icode= >, <Residue GLY het=  resseq=25 icode= >, <Residue ALA het=  resseq=26 icode= >, <Residue CYS het=  resseq=27 icode= >, <Residue VAL het=  resseq=28 icode= >, <Residue ASN het=  resseq=29 icode= >, <Residue ASN het=  resseq=30 icode= >, <Residue ASP het=  resseq=31 icode= >, <Residue GLU het=  resseq=32 icode= >, <Residue THR het=  resseq=33 icode= >, <Residue CYS het=  resseq=34 icode= >, <Residue GLU het=  resseq=35 icode= >, <Residue GLN het=  resseq=36 icode= >, <Residue ARG het=  resseq=37 icode= >, <Residue ALA het=  resseq=38 icode= >, <Residue ALA het=  resseq=39 icode= >, <Residue ARG het=  resseq=40 icode= >, <Residue ILE het=  resseq=41 icode= >, <Residue SER het=  resseq=42 icode= >, <Residue LEU het=  resseq=43 icode= >, <Residue GLY het=  resseq=44 icode= >, <Residue PRO het=  resseq=45 icode= >, <Residue ARG het=  resseq=46 icode= >, <Residue CYS het=  resseq=47 icode= >, <Residue ILE het=  resseq=48 icode= >, <Residue LYS het=  resseq=49 icode= >, <Residue ALA het=  resseq=50 icode= >, <Residue PHE het=  resseq=51 icode= >, <Residue THR het=  resseq=52 icode= >, <Residue GLU het=  resseq=53 icode= >, <Residue CYS het=  resseq=54 icode= >, <Residue CYS het=  resseq=55 icode= >, <Residue VAL het=  resseq=56 icode= >, <Residue VAL het=  resseq=57 icode= >, <Residue ALA het=  resseq=58 icode= >, <Residue SER het=  resseq=59 icode= >, <Residue GLN het=  resseq=60 icode= >, <Residue LEU het=  resseq=61 icode= >, <Residue ARG het=  resseq=62 icode= >, <Residue ALA het=  resseq=63 icode= >, <Residue ASN het=  resseq=64 icode= >, <Residue ILE het=  resseq=65 icode= >, <Residue SER het=  resseq=66 icode= >]\n",
      "<Residue MET het=  resseq=1 icode= >\n"
     ]
    }
   ],
   "source": [
    "structure[0]['B'].get_residues()\n",
    "res_list= bpdb.Selection.unfold_entities(structure[0]['B'], \"R\")\n",
    "print(res_list)\n",
    "# print(structure[0]['B'][2])\n",
    "print(structure[0]['A'][1])"
   ]
  },
  {
   "cell_type": "code",
   "execution_count": 23,
   "metadata": {},
   "outputs": [],
   "source": [
    "ppb= bpdb.PPBuilder()\n",
    "polypeptides = ppb.build_peptides(structure)"
   ]
  },
  {
   "cell_type": "code",
   "execution_count": 24,
   "metadata": {},
   "outputs": [
    {
     "name": "stdout",
     "output_type": "stream",
     "text": [
      "MLQKKIEEIAAKYKHSVVKKCCYDGACVNNDETCEQRAARISLGPRCIKAFTECCVVASQLRANIS\n",
      "QKKIEEIAAKYKHSVVKKCCYDGACVNNDETCEQRAARISLGPRCIKAFTECCVVASQLRANIS\n"
     ]
    }
   ],
   "source": [
    "for pp in polypeptides:\n",
    "    print(pp.get_sequence())"
   ]
  },
  {
   "cell_type": "code",
   "execution_count": 29,
   "metadata": {},
   "outputs": [
    {
     "name": "stdout",
     "output_type": "stream",
     "text": [
      "MLQKKIEEIAAKYKHSVVKKCCYDGACVNNDETCEQRAARISLGPRCIKAFTECCVVASQLRA\n",
      "LQKKIEEIAAKYKHSVVKKCCYDGACVNNDETCEQRAARISLGPRCIKAFTECCVVASQLRA\n"
     ]
    }
   ],
   "source": [
    "structure_2 = parser.get_structure(\"3hqb\", \"/nfs/turbo/lsa-tewaria/uniprot/CO5_HUMAN/3hqb.cif\")\n",
    "polypeptides_2 = ppb.build_peptides(structure_2)\n",
    "for x in ppb.build_peptides(structure_2):\n",
    "    print(x.get_sequence())\n"
   ]
  },
  {
   "cell_type": "code",
   "execution_count": 58,
   "metadata": {},
   "outputs": [
    {
     "name": "stdout",
     "output_type": "stream",
     "text": [
      "QKKIEEIAAKYKHSVVKKCCYDGACVNNDETCEQRAARISLGPRCIKAFTECCVVASQLRANIS\n",
      "LQKKIEEIAAKYKHSVVKKCCYDGACVNNDETCEQRAARISLGPRCIKAFTECCVVASQLRA\n"
     ]
    }
   ],
   "source": [
    "print(str(polypeptides[1].get_sequence()))\n",
    "print(str(polypeptides_2[1].get_sequence()))"
   ]
  },
  {
   "cell_type": "code",
   "execution_count": 36,
   "metadata": {},
   "outputs": [
    {
     "name": "stdout",
     "output_type": "stream",
     "text": [
      "<Residue ASN het=  resseq=64 icode= >\n",
      "<Residue MET het=  resseq=1 icode= >\n"
     ]
    }
   ],
   "source": [
    "print(structure[0]['A'][64])\n",
    "print(structure_2[0]['A'][1])"
   ]
  },
  {
   "cell_type": "code",
   "execution_count": 63,
   "metadata": {},
   "outputs": [],
   "source": [
    "class GlySelect(bpdb.Select):\n",
    "    def accept_residue(self, residue):\n",
    "        if residue.id[1] < 64 and residue.parent.id == 'A':\n",
    "            return 1\n",
    "        elif residue.id[1] <=62 and residue.parent.id == 'B':\n",
    "            return 1\n",
    "        else:\n",
    "            return 0"
   ]
  },
  {
   "cell_type": "code",
   "execution_count": 64,
   "metadata": {},
   "outputs": [],
   "source": [
    "io=bpdb.PDBIO()\n",
    "io.set_structure(structure)\n",
    "io.save(\"trial.pdb\", GlySelect())"
   ]
  },
  {
   "cell_type": "code",
   "execution_count": 65,
   "metadata": {},
   "outputs": [
    {
     "name": "stdout",
     "output_type": "stream",
     "text": [
      "MLQKKIEEIAAKYKHSVVKKCCYDGACVNNDETCEQRAARISLGPRCIKAFTECCVVASQLRA\n",
      "QKKIEEIAAKYKHSVVKKCCYDGACVNNDETCEQRAARISLGPRCIKAFTECCVVASQLR\n"
     ]
    }
   ],
   "source": [
    "parser_2 = bpdb.PDBParser()\n",
    "new_str = parser_2.get_structure(\"lol\", \"trial.pdb\")\n",
    "for x in ppb.build_peptides(new_str):\n",
    "    print(x.get_sequence())"
   ]
  },
  {
   "cell_type": "code",
   "execution_count": 56,
   "metadata": {},
   "outputs": [
    {
     "name": "stdout",
     "output_type": "stream",
     "text": [
      "[<Residue GLY het=  resseq=25 icode= >, <Residue GLY het=  resseq=44 icode= >, <Residue GLY het=  resseq=25 icode= >, <Residue GLY het=  resseq=44 icode= >]\n"
     ]
    }
   ],
   "source": [
    "res_list= bpdb.Selection.unfold_entities(new_str, \"R\")\n",
    "print(res_list)"
   ]
  },
  {
   "cell_type": "code",
   "execution_count": 66,
   "metadata": {},
   "outputs": [],
   "source": [
    "class GllolSelect(bpdb.Select):\n",
    "    def accept_residue(self, residue):\n",
    "        if residue.parent.id == 'A':\n",
    "            return 1\n",
    "        elif residue.id[1] > 1 and residue.parent.id == 'B':\n",
    "            return 1\n",
    "        else:\n",
    "            return 0"
   ]
  },
  {
   "cell_type": "code",
   "execution_count": 67,
   "metadata": {},
   "outputs": [],
   "source": [
    "io=bpdb.PDBIO()\n",
    "io.set_structure(structure_2)\n",
    "io.save(\"trial_2.pdb\", GllolSelect())"
   ]
  },
  {
   "cell_type": "code",
   "execution_count": null,
   "metadata": {},
   "outputs": [],
   "source": []
  }
 ],
 "metadata": {
  "kernelspec": {
   "display_name": "genIP",
   "language": "python",
   "name": "python3"
  },
  "language_info": {
   "codemirror_mode": {
    "name": "ipython",
    "version": 3
   },
   "file_extension": ".py",
   "mimetype": "text/x-python",
   "name": "python",
   "nbconvert_exporter": "python",
   "pygments_lexer": "ipython3",
   "version": "3.10.13"
  }
 },
 "nbformat": 4,
 "nbformat_minor": 2
}
