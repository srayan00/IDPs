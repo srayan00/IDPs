{
 "cells": [
  {
   "cell_type": "code",
   "execution_count": 2,
   "metadata": {},
   "outputs": [],
   "source": [
    "import pandas as pd\n",
    "import numpy as np\n",
    "import os\n",
    "import sys\n",
    "import gzip\n",
    "import shutil\n",
    "import json\n",
    "import re\n",
    "import tmalign_mapping\n",
    "import Bio.PDB as bpdb\n",
    "from Bio import Align"
   ]
  },
  {
   "cell_type": "code",
   "execution_count": 3,
   "metadata": {},
   "outputs": [],
   "source": [
    "filepath_sample = \"/nfs/turbo/lsa-tewaria/uniprot/CO5_HUMAN/3hqa.cif\"\n",
    "parser = bpdb.MMCIFParser()"
   ]
  },
  {
   "cell_type": "code",
   "execution_count": 4,
   "metadata": {},
   "outputs": [],
   "source": [
    "structure=parser.get_structure(\"3hqa\", filepath_sample)\n",
    "structure_2 = parser.get_structure(\"3hqb\", \"/nfs/turbo/lsa-tewaria/uniprot/CO5_HUMAN/3hqb.cif\")"
   ]
  },
  {
   "cell_type": "code",
   "execution_count": 5,
   "metadata": {},
   "outputs": [
    {
     "name": "stdout",
     "output_type": "stream",
     "text": [
      "[<Chain id=A>, <Chain id=B>]\n"
     ]
    }
   ],
   "source": [
    "res_list= bpdb.Selection.unfold_entities(structure, \"C\")\n",
    "print(res_list)"
   ]
  },
  {
   "cell_type": "code",
   "execution_count": 6,
   "metadata": {},
   "outputs": [
    {
     "name": "stdout",
     "output_type": "stream",
     "text": [
      "[<Residue GLN het=  resseq=3 icode= >, <Residue LYS het=  resseq=4 icode= >, <Residue LYS het=  resseq=5 icode= >, <Residue ILE het=  resseq=6 icode= >, <Residue GLU het=  resseq=7 icode= >, <Residue GLU het=  resseq=8 icode= >, <Residue ILE het=  resseq=9 icode= >, <Residue ALA het=  resseq=10 icode= >, <Residue ALA het=  resseq=11 icode= >, <Residue LYS het=  resseq=12 icode= >, <Residue TYR het=  resseq=13 icode= >, <Residue LYS het=  resseq=14 icode= >, <Residue HIS het=  resseq=15 icode= >, <Residue SER het=  resseq=16 icode= >, <Residue VAL het=  resseq=17 icode= >, <Residue VAL het=  resseq=18 icode= >, <Residue LYS het=  resseq=19 icode= >, <Residue LYS het=  resseq=20 icode= >, <Residue CYS het=  resseq=21 icode= >, <Residue CYS het=  resseq=22 icode= >, <Residue TYR het=  resseq=23 icode= >, <Residue ASP het=  resseq=24 icode= >, <Residue GLY het=  resseq=25 icode= >, <Residue ALA het=  resseq=26 icode= >, <Residue CYS het=  resseq=27 icode= >, <Residue VAL het=  resseq=28 icode= >, <Residue ASN het=  resseq=29 icode= >, <Residue ASN het=  resseq=30 icode= >, <Residue ASP het=  resseq=31 icode= >, <Residue GLU het=  resseq=32 icode= >, <Residue THR het=  resseq=33 icode= >, <Residue CYS het=  resseq=34 icode= >, <Residue GLU het=  resseq=35 icode= >, <Residue GLN het=  resseq=36 icode= >, <Residue ARG het=  resseq=37 icode= >, <Residue ALA het=  resseq=38 icode= >, <Residue ALA het=  resseq=39 icode= >, <Residue ARG het=  resseq=40 icode= >, <Residue ILE het=  resseq=41 icode= >, <Residue SER het=  resseq=42 icode= >, <Residue LEU het=  resseq=43 icode= >, <Residue GLY het=  resseq=44 icode= >, <Residue PRO het=  resseq=45 icode= >, <Residue ARG het=  resseq=46 icode= >, <Residue CYS het=  resseq=47 icode= >, <Residue ILE het=  resseq=48 icode= >, <Residue LYS het=  resseq=49 icode= >, <Residue ALA het=  resseq=50 icode= >, <Residue PHE het=  resseq=51 icode= >, <Residue THR het=  resseq=52 icode= >, <Residue GLU het=  resseq=53 icode= >, <Residue CYS het=  resseq=54 icode= >, <Residue CYS het=  resseq=55 icode= >, <Residue VAL het=  resseq=56 icode= >, <Residue VAL het=  resseq=57 icode= >, <Residue ALA het=  resseq=58 icode= >, <Residue SER het=  resseq=59 icode= >, <Residue GLN het=  resseq=60 icode= >, <Residue LEU het=  resseq=61 icode= >, <Residue ARG het=  resseq=62 icode= >, <Residue ALA het=  resseq=63 icode= >, <Residue ASN het=  resseq=64 icode= >, <Residue ILE het=  resseq=65 icode= >, <Residue SER het=  resseq=66 icode= >]\n",
      "<Residue MET het=  resseq=1 icode= >\n"
     ]
    }
   ],
   "source": [
    "structure[0]['B'].get_residues()\n",
    "res_list= bpdb.Selection.unfold_entities(structure[0]['B'], \"R\")\n",
    "print(res_list)\n",
    "# print(structure[0]['B'][2])\n",
    "print(structure[0]['A'][1])"
   ]
  },
  {
   "cell_type": "code",
   "execution_count": 7,
   "metadata": {},
   "outputs": [
    {
     "name": "stdout",
     "output_type": "stream",
     "text": [
      "MLQKKIEEIAAKYKHSVVKKCCYDGACVNNDETCEQRAARISLGPRCIKAFTECCVVASQLRANIS\n",
      "(' ', 1, ' ')\n",
      "(' ', 66, ' ')\n",
      "66\n",
      "QKKIEEIAAKYKHSVVKKCCYDGACVNNDETCEQRAARISLGPRCIKAFTECCVVASQLRANIS\n",
      "(' ', 3, ' ')\n",
      "(' ', 66, ' ')\n",
      "64\n"
     ]
    }
   ],
   "source": [
    "ppb= bpdb.PPBuilder()\n",
    "polypeptides = ppb.build_peptides(structure)\n",
    "for pp in polypeptides:\n",
    "    print(pp.get_sequence())\n",
    "    print(pp[0].get_id())\n",
    "    print(pp[-1].get_id())\n",
    "    print(len(pp))"
   ]
  },
  {
   "cell_type": "code",
   "execution_count": 8,
   "metadata": {},
   "outputs": [
    {
     "name": "stdout",
     "output_type": "stream",
     "text": [
      "MLQKKIEEIAAKYKHSVVKKCCYDGACVNNDETCEQRAARISLGPRCIKAFTECCVVASQLRA\n",
      "(' ', 1, ' ')\n",
      "(' ', 63, ' ')\n",
      "63\n",
      "LQKKIEEIAAKYKHSVVKKCCYDGACVNNDETCEQRAARISLGPRCIKAFTECCVVASQLRA\n",
      "(' ', 2, ' ')\n",
      "(' ', 63, ' ')\n",
      "62\n"
     ]
    }
   ],
   "source": [
    "polypeptides_2 = ppb.build_peptides(structure_2)\n",
    "for x in ppb.build_peptides(structure_2):\n",
    "    print(x.get_sequence())\n",
    "    print(x[0].get_id())\n",
    "    print(x[-1].get_id())\n",
    "    print(len(x))\n"
   ]
  },
  {
   "cell_type": "code",
   "execution_count": 9,
   "metadata": {},
   "outputs": [
    {
     "name": "stdout",
     "output_type": "stream",
     "text": [
      "QKKIEEIAAKYKHSVVKKCCYDGACVNNDETCEQRAARISLGPRCIKAFTECCVVASQLRANIS\n",
      "LQKKIEEIAAKYKHSVVKKCCYDGACVNNDETCEQRAARISLGPRCIKAFTECCVVASQLRA\n"
     ]
    }
   ],
   "source": [
    "print(str(polypeptides[1].get_sequence()))\n",
    "print(str(polypeptides_2[1].get_sequence()))"
   ]
  },
  {
   "cell_type": "code",
   "execution_count": 10,
   "metadata": {},
   "outputs": [
    {
     "name": "stdout",
     "output_type": "stream",
     "text": [
      "<Residue ASN het=  resseq=64 icode= >\n",
      "<Residue LEU het=  resseq=2 icode= >\n"
     ]
    }
   ],
   "source": [
    "print(structure[0]['A'][64])\n",
    "print(structure_2[0]['B'][2])"
   ]
  },
  {
   "cell_type": "code",
   "execution_count": 72,
   "metadata": {},
   "outputs": [],
   "source": [
    "# structure_2[0]['B'].detach_child((' ', 2, ' '))"
   ]
  },
  {
   "cell_type": "code",
   "execution_count": null,
   "metadata": {},
   "outputs": [],
   "source": []
  },
  {
   "cell_type": "code",
   "execution_count": 11,
   "metadata": {},
   "outputs": [],
   "source": [
    "class GlySelect(bpdb.Select):\n",
    "    def accept_residue(self, residue):\n",
    "        if residue.id[1] < 64 and residue.parent.id == 'A':\n",
    "            return 1\n",
    "        elif residue.id[1] <=63 and residue.parent.id == 'B':\n",
    "            return 1\n",
    "        else:\n",
    "            return 0"
   ]
  },
  {
   "cell_type": "code",
   "execution_count": 12,
   "metadata": {},
   "outputs": [],
   "source": [
    "io=bpdb.PDBIO()\n",
    "io.set_structure(structure)\n",
    "io.save(\"trial.pdb\", GlySelect())"
   ]
  },
  {
   "cell_type": "code",
   "execution_count": 13,
   "metadata": {},
   "outputs": [
    {
     "name": "stdout",
     "output_type": "stream",
     "text": [
      "MLQKKIEEIAAKYKHSVVKKCCYDGACVNNDETCEQRAARISLGPRCIKAFTECCVVASQLRA\n",
      "(' ', 1, ' ')\n",
      "QKKIEEIAAKYKHSVVKKCCYDGACVNNDETCEQRAARISLGPRCIKAFTECCVVASQLRA\n",
      "(' ', 3, ' ')\n"
     ]
    }
   ],
   "source": [
    "parser_2 = bpdb.PDBParser()\n",
    "new_str = parser_2.get_structure(\"lol\", \"trial.pdb\")\n",
    "for x in ppb.build_peptides(new_str):\n",
    "    print(x.get_sequence())\n",
    "    print(x[0].get_id())"
   ]
  },
  {
   "cell_type": "code",
   "execution_count": 14,
   "metadata": {},
   "outputs": [
    {
     "name": "stdout",
     "output_type": "stream",
     "text": [
      "[<Residue MET het=  resseq=1 icode= >, <Residue LEU het=  resseq=2 icode= >, <Residue GLN het=  resseq=3 icode= >, <Residue LYS het=  resseq=4 icode= >, <Residue LYS het=  resseq=5 icode= >, <Residue ILE het=  resseq=6 icode= >, <Residue GLU het=  resseq=7 icode= >, <Residue GLU het=  resseq=8 icode= >, <Residue ILE het=  resseq=9 icode= >, <Residue ALA het=  resseq=10 icode= >, <Residue ALA het=  resseq=11 icode= >, <Residue LYS het=  resseq=12 icode= >, <Residue TYR het=  resseq=13 icode= >, <Residue LYS het=  resseq=14 icode= >, <Residue HIS het=  resseq=15 icode= >, <Residue SER het=  resseq=16 icode= >, <Residue VAL het=  resseq=17 icode= >, <Residue VAL het=  resseq=18 icode= >, <Residue LYS het=  resseq=19 icode= >, <Residue LYS het=  resseq=20 icode= >, <Residue CYS het=  resseq=21 icode= >, <Residue CYS het=  resseq=22 icode= >, <Residue TYR het=  resseq=23 icode= >, <Residue ASP het=  resseq=24 icode= >, <Residue GLY het=  resseq=25 icode= >, <Residue ALA het=  resseq=26 icode= >, <Residue CYS het=  resseq=27 icode= >, <Residue VAL het=  resseq=28 icode= >, <Residue ASN het=  resseq=29 icode= >, <Residue ASN het=  resseq=30 icode= >, <Residue ASP het=  resseq=31 icode= >, <Residue GLU het=  resseq=32 icode= >, <Residue THR het=  resseq=33 icode= >, <Residue CYS het=  resseq=34 icode= >, <Residue GLU het=  resseq=35 icode= >, <Residue GLN het=  resseq=36 icode= >, <Residue ARG het=  resseq=37 icode= >, <Residue ALA het=  resseq=38 icode= >, <Residue ALA het=  resseq=39 icode= >, <Residue ARG het=  resseq=40 icode= >, <Residue ILE het=  resseq=41 icode= >, <Residue SER het=  resseq=42 icode= >, <Residue LEU het=  resseq=43 icode= >, <Residue GLY het=  resseq=44 icode= >, <Residue PRO het=  resseq=45 icode= >, <Residue ARG het=  resseq=46 icode= >, <Residue CYS het=  resseq=47 icode= >, <Residue ILE het=  resseq=48 icode= >, <Residue LYS het=  resseq=49 icode= >, <Residue ALA het=  resseq=50 icode= >, <Residue PHE het=  resseq=51 icode= >, <Residue THR het=  resseq=52 icode= >, <Residue GLU het=  resseq=53 icode= >, <Residue CYS het=  resseq=54 icode= >, <Residue CYS het=  resseq=55 icode= >, <Residue VAL het=  resseq=56 icode= >, <Residue VAL het=  resseq=57 icode= >, <Residue ALA het=  resseq=58 icode= >, <Residue SER het=  resseq=59 icode= >, <Residue GLN het=  resseq=60 icode= >, <Residue LEU het=  resseq=61 icode= >, <Residue ARG het=  resseq=62 icode= >, <Residue ALA het=  resseq=63 icode= >, <Residue GLN het=  resseq=3 icode= >, <Residue LYS het=  resseq=4 icode= >, <Residue LYS het=  resseq=5 icode= >, <Residue ILE het=  resseq=6 icode= >, <Residue GLU het=  resseq=7 icode= >, <Residue GLU het=  resseq=8 icode= >, <Residue ILE het=  resseq=9 icode= >, <Residue ALA het=  resseq=10 icode= >, <Residue ALA het=  resseq=11 icode= >, <Residue LYS het=  resseq=12 icode= >, <Residue TYR het=  resseq=13 icode= >, <Residue LYS het=  resseq=14 icode= >, <Residue HIS het=  resseq=15 icode= >, <Residue SER het=  resseq=16 icode= >, <Residue VAL het=  resseq=17 icode= >, <Residue VAL het=  resseq=18 icode= >, <Residue LYS het=  resseq=19 icode= >, <Residue LYS het=  resseq=20 icode= >, <Residue CYS het=  resseq=21 icode= >, <Residue CYS het=  resseq=22 icode= >, <Residue TYR het=  resseq=23 icode= >, <Residue ASP het=  resseq=24 icode= >, <Residue GLY het=  resseq=25 icode= >, <Residue ALA het=  resseq=26 icode= >, <Residue CYS het=  resseq=27 icode= >, <Residue VAL het=  resseq=28 icode= >, <Residue ASN het=  resseq=29 icode= >, <Residue ASN het=  resseq=30 icode= >, <Residue ASP het=  resseq=31 icode= >, <Residue GLU het=  resseq=32 icode= >, <Residue THR het=  resseq=33 icode= >, <Residue CYS het=  resseq=34 icode= >, <Residue GLU het=  resseq=35 icode= >, <Residue GLN het=  resseq=36 icode= >, <Residue ARG het=  resseq=37 icode= >, <Residue ALA het=  resseq=38 icode= >, <Residue ALA het=  resseq=39 icode= >, <Residue ARG het=  resseq=40 icode= >, <Residue ILE het=  resseq=41 icode= >, <Residue SER het=  resseq=42 icode= >, <Residue LEU het=  resseq=43 icode= >, <Residue GLY het=  resseq=44 icode= >, <Residue PRO het=  resseq=45 icode= >, <Residue ARG het=  resseq=46 icode= >, <Residue CYS het=  resseq=47 icode= >, <Residue ILE het=  resseq=48 icode= >, <Residue LYS het=  resseq=49 icode= >, <Residue ALA het=  resseq=50 icode= >, <Residue PHE het=  resseq=51 icode= >, <Residue THR het=  resseq=52 icode= >, <Residue GLU het=  resseq=53 icode= >, <Residue CYS het=  resseq=54 icode= >, <Residue CYS het=  resseq=55 icode= >, <Residue VAL het=  resseq=56 icode= >, <Residue VAL het=  resseq=57 icode= >, <Residue ALA het=  resseq=58 icode= >, <Residue SER het=  resseq=59 icode= >, <Residue GLN het=  resseq=60 icode= >, <Residue LEU het=  resseq=61 icode= >, <Residue ARG het=  resseq=62 icode= >, <Residue ALA het=  resseq=63 icode= >]\n"
     ]
    }
   ],
   "source": [
    "res_list= bpdb.Selection.unfold_entities(new_str, \"R\")\n",
    "print(res_list)"
   ]
  },
  {
   "cell_type": "code",
   "execution_count": 15,
   "metadata": {},
   "outputs": [],
   "source": [
    "class GllolSelect(bpdb.Select):\n",
    "    def accept_residue(self, residue):\n",
    "        if residue.parent.id == 'A':\n",
    "            return 1\n",
    "        elif residue.id[1] > 2 and residue.parent.id == 'B':\n",
    "            return 1\n",
    "        else:\n",
    "            return 0"
   ]
  },
  {
   "cell_type": "code",
   "execution_count": 16,
   "metadata": {},
   "outputs": [],
   "source": [
    "io=bpdb.PDBIO()\n",
    "io.set_structure(structure_2)\n",
    "io.save(\"trial_2.pdb\", GllolSelect())"
   ]
  },
  {
   "cell_type": "code",
   "execution_count": 17,
   "metadata": {},
   "outputs": [
    {
     "name": "stdout",
     "output_type": "stream",
     "text": [
      "MLQKKIEEIAAKYKHSVVKKCCYDGACVNNDETCEQRAARISLGPRCIKAFTECCVVASQLRA\n",
      "(' ', 1, ' ')\n",
      "QKKIEEIAAKYKHSVVKKCCYDGACVNNDETCEQRAARISLGPRCIKAFTECCVVASQLRA\n",
      "(' ', 3, ' ')\n"
     ]
    }
   ],
   "source": [
    "new_str = parser_2.get_structure(\"lol2\", \"trial_2.pdb\")\n",
    "for x in ppb.build_peptides(new_str):\n",
    "    print(x.get_sequence())\n",
    "    print(x[0].get_id())"
   ]
  },
  {
   "cell_type": "markdown",
   "metadata": {},
   "source": [
    "# Let's do the alignment using biopython"
   ]
  },
  {
   "cell_type": "code",
   "execution_count": 22,
   "metadata": {},
   "outputs": [
    {
     "name": "stdout",
     "output_type": "stream",
     "text": [
      "(((0, 61),), ((1, 62),))\n"
     ]
    }
   ],
   "source": [
    "aligner = Align.PairwiseAligner()\n",
    "aligner.mode = 'local'\n",
    "aligner.open_gap_score = -11\n",
    "aligner.extend_gap_score = -1\n",
    "aligner.substitution_matrix = Align.substitution_matrices.load(\"BLOSUM62\")\n",
    "alignments = aligner.align(str(polypeptides[1].get_sequence()), str(polypeptides_2[1].get_sequence()))\n",
    "alignments = list(alignments)\n",
    "print(alignments[0].aligned)"
   ]
  },
  {
   "cell_type": "code",
   "execution_count": 36,
   "metadata": {},
   "outputs": [
    {
     "name": "stderr",
     "output_type": "stream",
     "text": [
      "/home/srayan/miniconda3/envs/idp/lib/python3.10/site-packages/Bio/PDB/StructureBuilder.py:89: PDBConstructionWarning: WARNING: Chain A is discontinuous at line 2143.\n",
      "  warnings.warn(\n",
      "/home/srayan/miniconda3/envs/idp/lib/python3.10/site-packages/Bio/PDB/StructureBuilder.py:89: PDBConstructionWarning: WARNING: Chain B is discontinuous at line 2154.\n",
      "  warnings.warn(\n",
      "/home/srayan/miniconda3/envs/idp/lib/python3.10/site-packages/Bio/PDB/StructureBuilder.py:89: PDBConstructionWarning: WARNING: Chain C is discontinuous at line 2158.\n",
      "  warnings.warn(\n",
      "/home/srayan/miniconda3/envs/idp/lib/python3.10/site-packages/Bio/PDB/StructureBuilder.py:89: PDBConstructionWarning: WARNING: Chain D is discontinuous at line 2161.\n",
      "  warnings.warn(\n"
     ]
    }
   ],
   "source": [
    "tmalign_mapping.unzip_cif_folder(\"/nfs/turbo/lsa-tewaria/uniprot/CO5_HUMAN\")\n",
    "structure_3 = parser.get_structure(\"1cfa\", \"/nfs/turbo/lsa-tewaria/uniprot/CO5_HUMAN/1cfa.cif\")\n",
    "structure_4 = parser.get_structure(\"4p39\", \"/nfs/turbo/lsa-tewaria/uniprot/CO5_HUMAN/4p39.cif\")"
   ]
  },
  {
   "cell_type": "code",
   "execution_count": 35,
   "metadata": {},
   "outputs": [
    {
     "name": "stdout",
     "output_type": "stream",
     "text": [
      "<Residue CYS het=  resseq=72 icode= >\n",
      "MLQKKIEEIAAKYKHSVVKKCCYDGASVNNDETCEQRAARISLGPRCIKAFTECCVVASQLRANISHKDMC\n",
      "(' ', 1, ' ')\n",
      "(' ', 71, ' ')\n",
      "CLG\n",
      "(' ', 72, ' ')\n",
      "(' ', 74, ' ')\n"
     ]
    }
   ],
   "source": [
    "print(structure_3[0][\"B\"][72])\n",
    "polypeptides_3 = ppb.build_peptides(structure_3)\n",
    "for x in ppb.build_peptides(structure_3[13]):\n",
    "    print(x.get_sequence())\n",
    "    print(x[0].get_id())\n",
    "    print(x[-1].get_id())"
   ]
  },
  {
   "cell_type": "code",
   "execution_count": 29,
   "metadata": {},
   "outputs": [
    {
     "name": "stdout",
     "output_type": "stream",
     "text": [
      "0\n",
      "1\n",
      "2\n",
      "3\n",
      "4\n",
      "5\n",
      "6\n",
      "7\n",
      "8\n",
      "9\n",
      "10\n",
      "11\n",
      "12\n",
      "13\n",
      "14\n",
      "15\n",
      "16\n",
      "17\n",
      "18\n",
      "19\n"
     ]
    }
   ],
   "source": [
    "for model in structure_3:\n",
    "    print(model.id)"
   ]
  },
  {
   "cell_type": "code",
   "execution_count": 25,
   "metadata": {},
   "outputs": [],
   "source": [
    "alignments = aligner.align(str(polypeptides[0].get_sequence()), str(polypeptides_3[0].get_sequence()))\n",
    "alignments = list(alignments)\n",
    "alignment_1, alignment_2 = alignments[0].aligned\n",
    "alignment_1, alignment_2 = alignment_1[0], alignment_2[0]"
   ]
  },
  {
   "cell_type": "code",
   "execution_count": 26,
   "metadata": {},
   "outputs": [],
   "source": [
    "for idx, residue in enumerate(structure_3[0][\"A\"].get_residues()):\n",
    "    if idx not in range(alignment_2[0], alignment_2[1]):\n",
    "        structure_3[0][\"A\"].detach_child(residue.id)"
   ]
  },
  {
   "cell_type": "code",
   "execution_count": 27,
   "metadata": {},
   "outputs": [
    {
     "name": "stdout",
     "output_type": "stream",
     "text": [
      "STLQKKIEEIAAKYKHSVVKKCCYDGARVNNDETCEQRAARISLGPRCIKAFTECCVVASQLRANISFK\n",
      "(' ', 677, ' ')\n",
      "(' ', 745, ' ')\n",
      "STLQKKIEEIAAKYKHSVVKKCCYDGARVNNDETCEQRAARISLGPRCIKAFTECCVVASQLRANISFK\n",
      "(' ', 677, ' ')\n",
      "(' ', 745, ' ')\n",
      "TLQKKIEEIAAKYKHSVVKKCCYDGARVNNDETCEQRAARISLGPRCIKAFTECCVVASQLRANISFKR\n",
      "(' ', 678, ' ')\n",
      "(' ', 746, ' ')\n",
      "TLQKKIEEIAAKYKHSVVKKCCYDGARVNNDETCEQRAARISLGPRCIKAFTECCVVASQLRANISFK\n",
      "(' ', 678, ' ')\n",
      "(' ', 745, ' ')\n"
     ]
    }
   ],
   "source": [
    "for x in ppb.build_peptides(structure_4):\n",
    "    print(x.get_sequence())\n",
    "    print(x[0].get_id())\n",
    "    print(x[-1].get_id())"
   ]
  }
 ],
 "metadata": {
  "kernelspec": {
   "display_name": "genIP",
   "language": "python",
   "name": "python3"
  },
  "language_info": {
   "codemirror_mode": {
    "name": "ipython",
    "version": 3
   },
   "file_extension": ".py",
   "mimetype": "text/x-python",
   "name": "python",
   "nbconvert_exporter": "python",
   "pygments_lexer": "ipython3",
   "version": "3.10.13"
  }
 },
 "nbformat": 4,
 "nbformat_minor": 2
}
