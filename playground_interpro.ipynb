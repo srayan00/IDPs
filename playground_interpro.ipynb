{
 "cells": [
  {
   "cell_type": "code",
   "execution_count": 2,
   "metadata": {},
   "outputs": [],
   "source": [
    "import pandas as pd\n",
    "import numpy as np\n",
    "import os\n",
    "import sys\n",
    "import gzip\n",
    "import shutil\n",
    "import json\n",
    "import re\n",
    "import argparse\n",
    "import Bio.PDB as bpdb\n",
    "from Bio import Align\n",
    "import requests"
   ]
  },
  {
   "cell_type": "code",
   "execution_count": 67,
   "metadata": {},
   "outputs": [],
   "source": [
    "# response = requests.get(\"https://www.ebi.ac.uk:443/interpro/api/entry/all/protein/UniProt/P05067/\")\n",
    "response = requests.get(\"https://www.ebi.ac.uk/interpro/api/entry/interpro/protein/UniProt/P13671/\")"
   ]
  },
  {
   "cell_type": "code",
   "execution_count": 68,
   "metadata": {},
   "outputs": [
    {
     "name": "stdout",
     "output_type": "stream",
     "text": [
      "{'accession': 'IPR000436', 'name': 'Sushi/SCR/CCP domain', 'source_database': 'interpro', 'type': 'domain', 'integrated': None, 'member_databases': {'profile': {'PS50923': 'Sushi/CCP/SCR domain profile'}, 'cdd': {'cd00033': 'Complement control protein (CCP) modules (aka short consensus repeats SCRs or SUSHI repeats) have been identified in several proteins of the complement system'}, 'smart': {'SM00032': 'Domain abundant in complement control proteins; SUSHI repeat; short complement-like repeat (SCR)'}, 'pfam': {'PF00084': 'Sushi repeat (SCR repeat)'}}, 'go_terms': None}\n"
     ]
    }
   ],
   "source": [
    "json_file = response.json()[\"results\"]\n",
    "print(json_file[0][\"metadata\"])"
   ]
  },
  {
   "cell_type": "code",
   "execution_count": 69,
   "metadata": {},
   "outputs": [],
   "source": [
    "domain_stuff = [x for x in json_file if x[\"metadata\"][\"type\"] == \"domain\"]"
   ]
  },
  {
   "cell_type": "code",
   "execution_count": 70,
   "metadata": {},
   "outputs": [
    {
     "name": "stdout",
     "output_type": "stream",
     "text": [
      "{'accession': 'IPR000436', 'name': 'Sushi/SCR/CCP domain', 'source_database': 'interpro', 'type': 'domain', 'integrated': None, 'member_databases': {'profile': {'PS50923': 'Sushi/CCP/SCR domain profile'}, 'cdd': {'cd00033': 'Complement control protein (CCP) modules (aka short consensus repeats SCRs or SUSHI repeats) have been identified in several proteins of the complement system'}, 'smart': {'SM00032': 'Domain abundant in complement control proteins; SUSHI repeat; short complement-like repeat (SCR)'}, 'pfam': {'PF00084': 'Sushi repeat (SCR repeat)'}}, 'go_terms': None}\n",
      "[{'accession': 'p13671', 'protein_length': 934, 'source_database': 'reviewed', 'organism': '9606', 'entry_protein_locations': [{'fragments': [{'start': 642, 'end': 701, 'dc-status': 'CONTINUOUS', 'representative': False}], 'model': None, 'score': None}, {'fragments': [{'start': 702, 'end': 763, 'dc-status': 'CONTINUOUS', 'representative': False}], 'model': None, 'score': None}]}]\n",
      "{'accession': 'IPR002350', 'name': 'Kazal domain', 'source_database': 'interpro', 'type': 'domain', 'integrated': None, 'member_databases': {'pfam': {'PF07648': 'Kazal-type serine protease inhibitor domain', 'PF00050': 'Kazal-type serine protease inhibitor domain'}, 'smart': {'SM00280': 'Kazal type serine protease inhibitors'}, 'profile': {'PS51465': 'Kazal domain profile'}, 'prosite': {'PS00282': 'Kazal serine protease inhibitors family signature'}}, 'go_terms': [{'identifier': 'GO:0005515', 'name': 'protein binding', 'category': {'code': 'F', 'name': 'molecular_function'}}]}\n",
      "[{'accession': 'p13671', 'protein_length': 934, 'source_database': 'reviewed', 'organism': '9606', 'entry_protein_locations': [{'fragments': [{'start': 785, 'end': 839, 'dc-status': 'CONTINUOUS', 'representative': False}], 'model': None, 'score': None}]}]\n",
      "{'accession': 'IPR003884', 'name': 'Factor I / membrane attack complex', 'source_database': 'interpro', 'type': 'domain', 'integrated': None, 'member_databases': {'smart': {'SM00057': 'factor I membrane attack complex'}}, 'go_terms': None}\n",
      "[{'accession': 'p13671', 'protein_length': 934, 'source_database': 'reviewed', 'organism': '9606', 'entry_protein_locations': [{'fragments': [{'start': 767, 'end': 839, 'dc-status': 'CONTINUOUS', 'representative': False}], 'model': None, 'score': None}, {'fragments': [{'start': 861, 'end': 934, 'dc-status': 'CONTINUOUS', 'representative': False}], 'model': None, 'score': None}]}]\n",
      "{'accession': 'IPR020864', 'name': 'Membrane attack complex component/perforin (MACPF) domain', 'source_database': 'interpro', 'type': 'domain', 'integrated': None, 'member_databases': {'profile': {'PS51412': 'Membrane attack complex/perforin (MACPF) domain profile'}, 'pfam': {'PF01823': 'MAC/Perforin domain'}, 'smart': {'SM00457': 'membrane-attack complex / perforin'}}, 'go_terms': None}\n",
      "[{'accession': 'p13671', 'protein_length': 934, 'source_database': 'reviewed', 'organism': '9606', 'entry_protein_locations': [{'fragments': [{'start': 176, 'end': 522, 'dc-status': 'CONTINUOUS', 'representative': False}], 'model': None, 'score': None}]}]\n",
      "{'accession': 'IPR048828', 'name': 'Complement component C6, KAZAL domain', 'source_database': 'interpro', 'type': 'domain', 'integrated': None, 'member_databases': {'pfam': {'PF21288': 'Complement component C6, KAZAL domain'}}, 'go_terms': None}\n",
      "[{'accession': 'p13671', 'protein_length': 934, 'source_database': 'reviewed', 'organism': '9606', 'entry_protein_locations': [{'fragments': [{'start': 785, 'end': 838, 'dc-status': 'CONTINUOUS', 'representative': False}], 'model': None, 'score': None}]}]\n",
      "{'accession': 'IPR048831', 'name': 'Complement components C8A/B/C6, EGF-like domain', 'source_database': 'interpro', 'type': 'domain', 'integrated': None, 'member_databases': {'pfam': {'PF21195': 'Complement components C8A/B/C6, EGF-like domain'}}, 'go_terms': None}\n",
      "[{'accession': 'p13671', 'protein_length': 934, 'source_database': 'reviewed', 'organism': '9606', 'entry_protein_locations': [{'fragments': [{'start': 526, 'end': 554, 'dc-status': 'CONTINUOUS', 'representative': False}], 'model': None, 'score': None}]}]\n"
     ]
    }
   ],
   "source": [
    "for x in domain_stuff:\n",
    "    print(x[\"metadata\"])\n",
    "    print(x[\"proteins\"])"
   ]
  },
  {
   "cell_type": "code",
   "execution_count": 71,
   "metadata": {},
   "outputs": [
    {
     "name": "stdout",
     "output_type": "stream",
     "text": [
      "[{'fragments': [{'start': 176, 'end': 522, 'dc-status': 'CONTINUOUS', 'representative': False}], 'model': None, 'score': None}]\n",
      "[{'start': 176, 'end': 522, 'dc-status': 'CONTINUOUS', 'representative': False}]\n"
     ]
    }
   ],
   "source": [
    "print(domain_stuff[3][\"proteins\"][0][\"entry_protein_locations\"])\n",
    "for x in domain_stuff[3][\"proteins\"][0][\"entry_protein_locations\"]:\n",
    "    print(x[\"fragments\"])"
   ]
  },
  {
   "cell_type": "code",
   "execution_count": 40,
   "metadata": {},
   "outputs": [
    {
     "name": "stdout",
     "output_type": "stream",
     "text": [
      "  accession  protein_length source_database organism  \\\n",
      "0    p05067             770        reviewed     9606   \n",
      "1    p05067             770        reviewed     9606   \n",
      "2    p05067             770        reviewed     9606   \n",
      "3    p05067             770        reviewed     9606   \n",
      "4    p05067             770        reviewed     9606   \n",
      "5    p05067             770        reviewed     9606   \n",
      "6    p05067             770        reviewed     9606   \n",
      "7    p05067             770        reviewed     9606   \n",
      "\n",
      "                             entry_protein_locations  \n",
      "0                                               None  \n",
      "1                                               None  \n",
      "2  [{'fragments': [{'start': 294, 'end': 341, 'dc...  \n",
      "3  [{'fragments': [{'start': 288, 'end': 342, 'dc...  \n",
      "4                                               None  \n",
      "5                                               None  \n",
      "6  [{'fragments': [{'start': 24, 'end': 189, 'dc-...  \n",
      "7  [{'fragments': [{'start': 132, 'end': 188, 'dc...  \n"
     ]
    }
   ],
   "source": [
    "interpro_data = pd.DataFrame([x['metadata'] for x in domain_stuff])\n",
    "other_data = pd.DataFrame([x['proteins'][0] for x in domain_stuff])\n",
    "print(other_data)"
   ]
  }
 ],
 "metadata": {
  "kernelspec": {
   "display_name": "idp",
   "language": "python",
   "name": "python3"
  },
  "language_info": {
   "codemirror_mode": {
    "name": "ipython",
    "version": 3
   },
   "file_extension": ".py",
   "mimetype": "text/x-python",
   "name": "python",
   "nbconvert_exporter": "python",
   "pygments_lexer": "ipython3",
   "version": "3.10.13"
  }
 },
 "nbformat": 4,
 "nbformat_minor": 2
}
