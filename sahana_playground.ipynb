{
 "cells": [
  {
   "cell_type": "code",
   "execution_count": 22,
   "metadata": {},
   "outputs": [],
   "source": [
    "import pandas as pd\n",
    "import numpy as np\n",
    "import os\n",
    "import sys\n",
    "import gzip\n",
    "import shutil\n",
    "import json\n",
    "import re\n",
    "import tmalign_mapping\n",
    "import Bio.PDB as bpdb\n",
    "from Bio import Align"
   ]
  },
  {
   "cell_type": "markdown",
   "metadata": {},
   "source": [
    "# Zip Status"
   ]
  },
  {
   "cell_type": "code",
   "execution_count": 2,
   "metadata": {},
   "outputs": [],
   "source": [
    "# Zip status\n",
    "zipped_status_path = \"/nfs/turbo/lsa-tewaria/zipped_status.csv\"\n",
    "if not os.path.exists(zipped_status_path):\n",
    "    list_mmcifs = os.listdir(\"/nfs/turbo/lsa-tewaria/mmCIF/\")\n",
    "    zipped_status = pd.DataFrame({\"status\" : [True for i in range(len(list_mmcifs))]}, index = list_mmcifs)\n",
    "    zipped_status.to_csv(zipped_status_path)\n",
    "else:\n",
    "    zipped_status = pd.read_csv(zipped_status_path, index_col = 0)"
   ]
  },
  {
   "cell_type": "markdown",
   "metadata": {},
   "source": [
    "# Uniprot to pdb mappings"
   ]
  },
  {
   "cell_type": "code",
   "execution_count": 3,
   "metadata": {},
   "outputs": [],
   "source": [
    "# Load dataframe PDBs to Uniprot\n",
    "uniprot_pdb_path = \"/nfs/turbo/lsa-tewaria/uniprot_df_small.csv\"\n",
    "uniprot_df = pd.read_csv(uniprot_pdb_path)"
   ]
  },
  {
   "cell_type": "markdown",
   "metadata": {},
   "source": [
    "# Scop data"
   ]
  },
  {
   "cell_type": "code",
   "execution_count": 4,
   "metadata": {},
   "outputs": [],
   "source": [
    "# Load Scop data\n",
    "scop_df = tmalign_mapping.read_scop_file()"
   ]
  },
  {
   "cell_type": "markdown",
   "metadata": {},
   "source": [
    "# Single Uniprot ID - Naive Version. All to All TM align"
   ]
  },
  {
   "cell_type": "code",
   "execution_count": 5,
   "metadata": {},
   "outputs": [
    {
     "ename": "KeyboardInterrupt",
     "evalue": "",
     "output_type": "error",
     "traceback": [
      "\u001b[0;31m---------------------------------------------------------------------------\u001b[0m",
      "\u001b[0;31mKeyboardInterrupt\u001b[0m                         Traceback (most recent call last)",
      "Cell \u001b[0;32mIn[5], line 2\u001b[0m\n\u001b[1;32m      1\u001b[0m \u001b[38;5;66;03m# # Move PDBs to Uniprot folders\u001b[39;00m\n\u001b[0;32m----> 2\u001b[0m uniprot_path, zipped_status \u001b[38;5;241m=\u001b[39m \u001b[43mtmalign_mapping\u001b[49m\u001b[38;5;241;43m.\u001b[39;49m\u001b[43muniprot_to_pdb\u001b[49m\u001b[43m(\u001b[49m\u001b[38;5;124;43m\"\u001b[39;49m\u001b[38;5;124;43mCHEY_ECOLI\u001b[39;49m\u001b[38;5;124;43m\"\u001b[39;49m\u001b[43m,\u001b[49m\u001b[43m \u001b[49m\u001b[43muniprot_df\u001b[49m\u001b[43m,\u001b[49m\u001b[43m \u001b[49m\u001b[43mzipped_status\u001b[49m\u001b[43m)\u001b[49m\n\u001b[1;32m      4\u001b[0m \u001b[38;5;66;03m# Compare proteins in Uniprot folder\u001b[39;00m\n\u001b[1;32m      5\u001b[0m tmalign_mapping\u001b[38;5;241m.\u001b[39mcompare_proteins_dir(uniprot_path)\n",
      "File \u001b[0;32m~/conformer-gen/tmalign_mapping.py:105\u001b[0m, in \u001b[0;36muniprot_to_pdb\u001b[0;34m(uniprot_id, uniprot_df, zip_status, write)\u001b[0m\n\u001b[1;32m    103\u001b[0m pdb_dir_path \u001b[38;5;241m=\u001b[39m os\u001b[38;5;241m.\u001b[39mpath\u001b[38;5;241m.\u001b[39mjoin(mmcif_path, pdb_id[\u001b[38;5;241m1\u001b[39m:\u001b[38;5;241m3\u001b[39m])\n\u001b[1;32m    104\u001b[0m \u001b[38;5;28;01mif\u001b[39;00m zip_status[\u001b[38;5;124m\"\u001b[39m\u001b[38;5;124mstatus\u001b[39m\u001b[38;5;124m\"\u001b[39m][pdb_id[\u001b[38;5;241m1\u001b[39m:\u001b[38;5;241m3\u001b[39m]]:\n\u001b[0;32m--> 105\u001b[0m     \u001b[43munzip_cif_folder\u001b[49m\u001b[43m(\u001b[49m\u001b[43mpdb_dir_path\u001b[49m\u001b[43m)\u001b[49m\n\u001b[1;32m    106\u001b[0m     zip_status[\u001b[38;5;124m\"\u001b[39m\u001b[38;5;124mstatus\u001b[39m\u001b[38;5;124m\"\u001b[39m][pdb_id[\u001b[38;5;241m1\u001b[39m:\u001b[38;5;241m3\u001b[39m]] \u001b[38;5;241m=\u001b[39m \u001b[38;5;28;01mFalse\u001b[39;00m\n\u001b[1;32m    107\u001b[0m pdb_path \u001b[38;5;241m=\u001b[39m os\u001b[38;5;241m.\u001b[39mpath\u001b[38;5;241m.\u001b[39mjoin(pdb_dir_path, pdb_id \u001b[38;5;241m+\u001b[39m \u001b[38;5;124m\"\u001b[39m\u001b[38;5;124m.cif\u001b[39m\u001b[38;5;124m\"\u001b[39m)\n",
      "File \u001b[0;32m~/conformer-gen/tmalign_mapping.py:82\u001b[0m, in \u001b[0;36munzip_cif_folder\u001b[0;34m(directory)\u001b[0m\n\u001b[1;32m     80\u001b[0m \u001b[38;5;28;01mwith\u001b[39;00m gzip\u001b[38;5;241m.\u001b[39mopen(filename_new, \u001b[38;5;124m'\u001b[39m\u001b[38;5;124mrb\u001b[39m\u001b[38;5;124m'\u001b[39m) \u001b[38;5;28;01mas\u001b[39;00m f_in:\n\u001b[1;32m     81\u001b[0m     \u001b[38;5;28;01mwith\u001b[39;00m \u001b[38;5;28mopen\u001b[39m(filename_new[:\u001b[38;5;241m-\u001b[39m\u001b[38;5;241m3\u001b[39m], \u001b[38;5;124m'\u001b[39m\u001b[38;5;124mwb\u001b[39m\u001b[38;5;124m'\u001b[39m) \u001b[38;5;28;01mas\u001b[39;00m f_out:\n\u001b[0;32m---> 82\u001b[0m         \u001b[43mshutil\u001b[49m\u001b[38;5;241;43m.\u001b[39;49m\u001b[43mcopyfileobj\u001b[49m\u001b[43m(\u001b[49m\u001b[43mf_in\u001b[49m\u001b[43m,\u001b[49m\u001b[43m \u001b[49m\u001b[43mf_out\u001b[49m\u001b[43m)\u001b[49m\n",
      "File \u001b[0;32m~/miniconda3/envs/idp/lib/python3.10/shutil.py:195\u001b[0m, in \u001b[0;36mcopyfileobj\u001b[0;34m(fsrc, fdst, length)\u001b[0m\n\u001b[1;32m    193\u001b[0m fdst_write \u001b[38;5;241m=\u001b[39m fdst\u001b[38;5;241m.\u001b[39mwrite\n\u001b[1;32m    194\u001b[0m \u001b[38;5;28;01mwhile\u001b[39;00m \u001b[38;5;28;01mTrue\u001b[39;00m:\n\u001b[0;32m--> 195\u001b[0m     buf \u001b[38;5;241m=\u001b[39m \u001b[43mfsrc_read\u001b[49m\u001b[43m(\u001b[49m\u001b[43mlength\u001b[49m\u001b[43m)\u001b[49m\n\u001b[1;32m    196\u001b[0m     \u001b[38;5;28;01mif\u001b[39;00m \u001b[38;5;129;01mnot\u001b[39;00m buf:\n\u001b[1;32m    197\u001b[0m         \u001b[38;5;28;01mbreak\u001b[39;00m\n",
      "File \u001b[0;32m~/miniconda3/envs/idp/lib/python3.10/gzip.py:301\u001b[0m, in \u001b[0;36mGzipFile.read\u001b[0;34m(self, size)\u001b[0m\n\u001b[1;32m    299\u001b[0m     \u001b[38;5;28;01mimport\u001b[39;00m \u001b[38;5;21;01merrno\u001b[39;00m\n\u001b[1;32m    300\u001b[0m     \u001b[38;5;28;01mraise\u001b[39;00m \u001b[38;5;167;01mOSError\u001b[39;00m(errno\u001b[38;5;241m.\u001b[39mEBADF, \u001b[38;5;124m\"\u001b[39m\u001b[38;5;124mread() on write-only GzipFile object\u001b[39m\u001b[38;5;124m\"\u001b[39m)\n\u001b[0;32m--> 301\u001b[0m \u001b[38;5;28;01mreturn\u001b[39;00m \u001b[38;5;28;43mself\u001b[39;49m\u001b[38;5;241;43m.\u001b[39;49m\u001b[43m_buffer\u001b[49m\u001b[38;5;241;43m.\u001b[39;49m\u001b[43mread\u001b[49m\u001b[43m(\u001b[49m\u001b[43msize\u001b[49m\u001b[43m)\u001b[49m\n",
      "File \u001b[0;32m~/miniconda3/envs/idp/lib/python3.10/_compression.py:68\u001b[0m, in \u001b[0;36mDecompressReader.readinto\u001b[0;34m(self, b)\u001b[0m\n\u001b[1;32m     66\u001b[0m \u001b[38;5;28;01mdef\u001b[39;00m \u001b[38;5;21mreadinto\u001b[39m(\u001b[38;5;28mself\u001b[39m, b):\n\u001b[1;32m     67\u001b[0m     \u001b[38;5;28;01mwith\u001b[39;00m \u001b[38;5;28mmemoryview\u001b[39m(b) \u001b[38;5;28;01mas\u001b[39;00m view, view\u001b[38;5;241m.\u001b[39mcast(\u001b[38;5;124m\"\u001b[39m\u001b[38;5;124mB\u001b[39m\u001b[38;5;124m\"\u001b[39m) \u001b[38;5;28;01mas\u001b[39;00m byte_view:\n\u001b[0;32m---> 68\u001b[0m         data \u001b[38;5;241m=\u001b[39m \u001b[38;5;28;43mself\u001b[39;49m\u001b[38;5;241;43m.\u001b[39;49m\u001b[43mread\u001b[49m\u001b[43m(\u001b[49m\u001b[38;5;28;43mlen\u001b[39;49m\u001b[43m(\u001b[49m\u001b[43mbyte_view\u001b[49m\u001b[43m)\u001b[49m\u001b[43m)\u001b[49m\n\u001b[1;32m     69\u001b[0m         byte_view[:\u001b[38;5;28mlen\u001b[39m(data)] \u001b[38;5;241m=\u001b[39m data\n\u001b[1;32m     70\u001b[0m     \u001b[38;5;28;01mreturn\u001b[39;00m \u001b[38;5;28mlen\u001b[39m(data)\n",
      "File \u001b[0;32m~/miniconda3/envs/idp/lib/python3.10/gzip.py:488\u001b[0m, in \u001b[0;36m_GzipReader.read\u001b[0;34m(self, size)\u001b[0m\n\u001b[1;32m    484\u001b[0m \u001b[38;5;28;01mif\u001b[39;00m \u001b[38;5;28mself\u001b[39m\u001b[38;5;241m.\u001b[39m_new_member:\n\u001b[1;32m    485\u001b[0m     \u001b[38;5;66;03m# If the _new_member flag is set, we have to\u001b[39;00m\n\u001b[1;32m    486\u001b[0m     \u001b[38;5;66;03m# jump to the next member, if there is one.\u001b[39;00m\n\u001b[1;32m    487\u001b[0m     \u001b[38;5;28mself\u001b[39m\u001b[38;5;241m.\u001b[39m_init_read()\n\u001b[0;32m--> 488\u001b[0m     \u001b[38;5;28;01mif\u001b[39;00m \u001b[38;5;129;01mnot\u001b[39;00m \u001b[38;5;28;43mself\u001b[39;49m\u001b[38;5;241;43m.\u001b[39;49m\u001b[43m_read_gzip_header\u001b[49m\u001b[43m(\u001b[49m\u001b[43m)\u001b[49m:\n\u001b[1;32m    489\u001b[0m         \u001b[38;5;28mself\u001b[39m\u001b[38;5;241m.\u001b[39m_size \u001b[38;5;241m=\u001b[39m \u001b[38;5;28mself\u001b[39m\u001b[38;5;241m.\u001b[39m_pos\n\u001b[1;32m    490\u001b[0m         \u001b[38;5;28;01mreturn\u001b[39;00m \u001b[38;5;124mb\u001b[39m\u001b[38;5;124m\"\u001b[39m\u001b[38;5;124m\"\u001b[39m\n",
      "File \u001b[0;32m~/miniconda3/envs/idp/lib/python3.10/gzip.py:431\u001b[0m, in \u001b[0;36m_GzipReader._read_gzip_header\u001b[0;34m(self)\u001b[0m\n\u001b[1;32m    430\u001b[0m \u001b[38;5;28;01mdef\u001b[39;00m \u001b[38;5;21m_read_gzip_header\u001b[39m(\u001b[38;5;28mself\u001b[39m):\n\u001b[0;32m--> 431\u001b[0m     magic \u001b[38;5;241m=\u001b[39m \u001b[38;5;28;43mself\u001b[39;49m\u001b[38;5;241;43m.\u001b[39;49m\u001b[43m_fp\u001b[49m\u001b[38;5;241;43m.\u001b[39;49m\u001b[43mread\u001b[49m\u001b[43m(\u001b[49m\u001b[38;5;241;43m2\u001b[39;49m\u001b[43m)\u001b[49m\n\u001b[1;32m    432\u001b[0m     \u001b[38;5;28;01mif\u001b[39;00m magic \u001b[38;5;241m==\u001b[39m \u001b[38;5;124mb\u001b[39m\u001b[38;5;124m'\u001b[39m\u001b[38;5;124m'\u001b[39m:\n\u001b[1;32m    433\u001b[0m         \u001b[38;5;28;01mreturn\u001b[39;00m \u001b[38;5;28;01mFalse\u001b[39;00m\n",
      "File \u001b[0;32m~/miniconda3/envs/idp/lib/python3.10/gzip.py:97\u001b[0m, in \u001b[0;36m_PaddedFile.read\u001b[0;34m(self, size)\u001b[0m\n\u001b[1;32m     94\u001b[0m read \u001b[38;5;241m=\u001b[39m \u001b[38;5;28mself\u001b[39m\u001b[38;5;241m.\u001b[39m_read\n\u001b[1;32m     95\u001b[0m \u001b[38;5;28mself\u001b[39m\u001b[38;5;241m.\u001b[39m_read \u001b[38;5;241m=\u001b[39m \u001b[38;5;28;01mNone\u001b[39;00m\n\u001b[1;32m     96\u001b[0m \u001b[38;5;28;01mreturn\u001b[39;00m \u001b[38;5;28mself\u001b[39m\u001b[38;5;241m.\u001b[39m_buffer[read:] \u001b[38;5;241m+\u001b[39m \\\n\u001b[0;32m---> 97\u001b[0m        \u001b[38;5;28;43mself\u001b[39;49m\u001b[38;5;241;43m.\u001b[39;49m\u001b[43mfile\u001b[49m\u001b[38;5;241;43m.\u001b[39;49m\u001b[43mread\u001b[49m\u001b[43m(\u001b[49m\u001b[43msize\u001b[49m\u001b[38;5;241;43m-\u001b[39;49m\u001b[38;5;28;43mself\u001b[39;49m\u001b[38;5;241;43m.\u001b[39;49m\u001b[43m_length\u001b[49m\u001b[38;5;241;43m+\u001b[39;49m\u001b[43mread\u001b[49m\u001b[43m)\u001b[49m\n",
      "\u001b[0;31mKeyboardInterrupt\u001b[0m: "
     ]
    }
   ],
   "source": [
    "# # Move PDBs to Uniprot folders\n",
    "uniprot_path, zipped_status = tmalign_mapping.uniprot_to_pdb(\"CHEY_ECOLI\", uniprot_df, zipped_status)\n",
    "\n",
    "# Compare proteins in Uniprot folder\n",
    "tmalign_mapping.compare_proteins_dir(uniprot_path)\n",
    "\n",
    "# Clean TMalign output\n",
    "tmalign_mapping.clean_TMalign_output(uniprot_path)\n",
    "\n",
    "# Save zipped status\n",
    "zipped_status.to_csv(zipped_status_path)"
   ]
  },
  {
   "cell_type": "markdown",
   "metadata": {},
   "source": [
    "# All Uniprot IDs - Naive version\n",
    "\n",
    "**NOTE: DON'T RUN THE BELOW CODE CHUNK. IT WILL TAKE A LONG TIME**"
   ]
  },
  {
   "cell_type": "code",
   "execution_count": null,
   "metadata": {},
   "outputs": [],
   "source": [
    "# Get Unique Uniprot IDs\n",
    "uniprot_ids = uniprot_df[\"uniprot_id\"].unique()  \n",
    "for uniprot_id in uniprot_ids:\n",
    "    # Find Uniprot data\n",
    "    uniprot_json = tmalign_mapping.find_uniprot(uniprot_df, uniprot_id)\n",
    "\n",
    "    # Move PDBs to Uniprot folders\n",
    "    uniprot_path, zipped_status = tmalign_mapping.uniprot_to_pdb(uniprot_id, uniprot_df, zipped_status)\n",
    "\n",
    "    # Compare proteins in Uniprot folder\n",
    "    tmalign_mapping.compare_proteins_dir(uniprot_path)\n",
    "\n",
    "    # Clean TMalign output\n",
    "    tmalign_mapping.clean_TMalign_output(uniprot_path)\n",
    "    "
   ]
  },
  {
   "cell_type": "markdown",
   "metadata": {},
   "source": [
    "# Single Uniprot ID - Smart versions"
   ]
  },
  {
   "cell_type": "code",
   "execution_count": 7,
   "metadata": {},
   "outputs": [
    {
     "name": "stderr",
     "output_type": "stream",
     "text": [
      "Warning! Cannot parse file: /nfs/turbo/lsa-tewaria/uniprot/CO5_HUMAN/1cfa.cif. Chain number 0.\n",
      "Warning! Cannot parse file: /nfs/turbo/lsa-tewaria/uniprot/CO5_HUMAN/4p39.cif. Chain number 0.\n",
      "Warning! Cannot parse file: /nfs/turbo/lsa-tewaria/uniprot/CO5_HUMAN/5b71.cif. Chain number 0.\n",
      "Warning! Cannot parse file: /nfs/turbo/lsa-tewaria/uniprot/CO5_HUMAN/5hcc.cif. Chain number 0.\n",
      "Warning! Cannot parse file: /nfs/turbo/lsa-tewaria/uniprot/CO5_HUMAN/5hcd.cif. Chain number 0.\n",
      "Warning! Cannot parse file: /nfs/turbo/lsa-tewaria/uniprot/CO5_HUMAN/5hce.cif. Chain number 0.\n",
      "Warning! Cannot parse file: /nfs/turbo/lsa-tewaria/uniprot/CO5_HUMAN/6rpt.cif. Chain number 0.\n",
      "Warning! Cannot parse file: /nfs/turbo/lsa-tewaria/uniprot/CO5_HUMAN/4p39.cif. Chain number 0.\n",
      "Warning! Cannot parse file: /nfs/turbo/lsa-tewaria/uniprot/CO5_HUMAN/5b71.cif. Chain number 0.\n",
      "Warning! Cannot parse file: /nfs/turbo/lsa-tewaria/uniprot/CO5_HUMAN/5hcc.cif. Chain number 0.\n",
      "Warning! Cannot parse file: /nfs/turbo/lsa-tewaria/uniprot/CO5_HUMAN/5hcd.cif. Chain number 0.\n",
      "Warning! Cannot parse file: /nfs/turbo/lsa-tewaria/uniprot/CO5_HUMAN/5hce.cif. Chain number 0.\n",
      "Warning! Cannot parse file: /nfs/turbo/lsa-tewaria/uniprot/CO5_HUMAN/6rpt.cif. Chain number 0.\n",
      "Warning! Cannot parse file: /nfs/turbo/lsa-tewaria/uniprot/CO5_HUMAN/4p39.cif. Chain number 0.\n",
      "Warning! Cannot parse file: /nfs/turbo/lsa-tewaria/uniprot/CO5_HUMAN/5b71.cif. Chain number 0.\n",
      "Warning! Cannot parse file: /nfs/turbo/lsa-tewaria/uniprot/CO5_HUMAN/5hcc.cif. Chain number 0.\n",
      "Warning! Cannot parse file: /nfs/turbo/lsa-tewaria/uniprot/CO5_HUMAN/5hcd.cif. Chain number 0.\n",
      "Warning! Cannot parse file: /nfs/turbo/lsa-tewaria/uniprot/CO5_HUMAN/5hce.cif. Chain number 0.\n",
      "Warning! Cannot parse file: /nfs/turbo/lsa-tewaria/uniprot/CO5_HUMAN/6rpt.cif. Chain number 0.\n",
      "/home/srayan/conformer-gen/tmalign_mapping.py:114: ParserWarning: Falling back to the 'python' engine because the 'c' engine does not support skipfooter; you can avoid this warning by specifying engine='python'.\n",
      "  tmalign_output = pd.read_csv(os.path.join(directory, raw_file), sep = \"\\t\", skipfooter = 1)\n",
      "Warning! Cannot parse file: /nfs/turbo/lsa-tewaria/uniprot/CO5_HUMAN/1kjs.cif. Chain number 0.\n",
      "Warning! Cannot parse file: /nfs/turbo/lsa-tewaria/uniprot/CO5_HUMAN/4uu9.cif. Chain number 0.\n",
      "Warning! Cannot parse file: /nfs/turbo/lsa-tewaria/uniprot/CO5_HUMAN/5b4p.cif. Chain number 0.\n",
      "Warning! Cannot parse file: /nfs/turbo/lsa-tewaria/uniprot/CO5_HUMAN/7y64.cif. Chain number 0.\n",
      "Warning! Cannot parse file: /nfs/turbo/lsa-tewaria/uniprot/CO5_HUMAN/8hk5.cif. Chain number 0.\n",
      "/home/srayan/conformer-gen/tmalign_mapping.py:114: ParserWarning: Falling back to the 'python' engine because the 'c' engine does not support skipfooter; you can avoid this warning by specifying engine='python'.\n",
      "  tmalign_output = pd.read_csv(os.path.join(directory, raw_file), sep = \"\\t\", skipfooter = 1)\n",
      "Warning! Cannot parse file: /nfs/turbo/lsa-tewaria/uniprot/CO5_HUMAN/3cu7.cif. Chain number 0.\n",
      "Warning! Cannot parse file: /nfs/turbo/lsa-tewaria/uniprot/CO5_HUMAN/3kls.cif. Chain number 0.\n",
      "Warning! Cannot parse file: /nfs/turbo/lsa-tewaria/uniprot/CO5_HUMAN/3km9.cif. Chain number 0.\n",
      "Warning! Cannot parse file: /nfs/turbo/lsa-tewaria/uniprot/CO5_HUMAN/3prx.cif. Chain number 0.\n",
      "Warning! Cannot parse file: /nfs/turbo/lsa-tewaria/uniprot/CO5_HUMAN/3pvm.cif. Chain number 0.\n",
      "Warning! Cannot parse file: /nfs/turbo/lsa-tewaria/uniprot/CO5_HUMAN/4a5w.cif. Chain number 0.\n",
      "Warning! Cannot parse file: /nfs/turbo/lsa-tewaria/uniprot/CO5_HUMAN/5i5k.cif. Chain number 0.\n",
      "Warning! Cannot parse file: /nfs/turbo/lsa-tewaria/uniprot/CO5_HUMAN/6h03.cif. Chain number 0.\n",
      "Warning! Cannot parse file: /nfs/turbo/lsa-tewaria/uniprot/CO5_HUMAN/6h04.cif. Chain number 0.\n",
      "Warning! Cannot parse file: /nfs/turbo/lsa-tewaria/uniprot/CO5_HUMAN/6rqj.cif. Chain number 0.\n",
      "Warning! Cannot parse file: /nfs/turbo/lsa-tewaria/uniprot/CO5_HUMAN/7ad6.cif. Chain number 0.\n",
      "Warning! Cannot parse file: /nfs/turbo/lsa-tewaria/uniprot/CO5_HUMAN/7ad7.cif. Chain number 0.\n",
      "Warning! Cannot parse file: /nfs/turbo/lsa-tewaria/uniprot/CO5_HUMAN/7nyc.cif. Chain number 0.\n",
      "Warning! Cannot parse file: /nfs/turbo/lsa-tewaria/uniprot/CO5_HUMAN/7nyd.cif. Chain number 0.\n",
      "Warning! Cannot parse file: /nfs/turbo/lsa-tewaria/uniprot/CO5_HUMAN/8b0f.cif. Chain number 0.\n",
      "Warning! Cannot parse file: /nfs/turbo/lsa-tewaria/uniprot/CO5_HUMAN/8b0g.cif. Chain number 0.\n",
      "Warning! Cannot parse file: /nfs/turbo/lsa-tewaria/uniprot/CO5_HUMAN/8b0h.cif. Chain number 0.\n",
      "Warning! Cannot parse file: /nfs/turbo/lsa-tewaria/uniprot/CO5_HUMAN/5i5k.cif. Chain number 0.\n",
      "Warning! Cannot parse file: /nfs/turbo/lsa-tewaria/uniprot/CO5_HUMAN/6h03.cif. Chain number 0.\n",
      "Warning! Cannot parse file: /nfs/turbo/lsa-tewaria/uniprot/CO5_HUMAN/6h04.cif. Chain number 0.\n",
      "Warning! Cannot parse file: /nfs/turbo/lsa-tewaria/uniprot/CO5_HUMAN/6rqj.cif. Chain number 0.\n",
      "Warning! Cannot parse file: /nfs/turbo/lsa-tewaria/uniprot/CO5_HUMAN/7ad6.cif. Chain number 0.\n",
      "Warning! Cannot parse file: /nfs/turbo/lsa-tewaria/uniprot/CO5_HUMAN/7ad7.cif. Chain number 0.\n",
      "Warning! Cannot parse file: /nfs/turbo/lsa-tewaria/uniprot/CO5_HUMAN/7nyc.cif. Chain number 0.\n",
      "Warning! Cannot parse file: /nfs/turbo/lsa-tewaria/uniprot/CO5_HUMAN/7nyd.cif. Chain number 0.\n",
      "Warning! Cannot parse file: /nfs/turbo/lsa-tewaria/uniprot/CO5_HUMAN/8b0f.cif. Chain number 0.\n",
      "Warning! Cannot parse file: /nfs/turbo/lsa-tewaria/uniprot/CO5_HUMAN/8b0g.cif. Chain number 0.\n",
      "Warning! Cannot parse file: /nfs/turbo/lsa-tewaria/uniprot/CO5_HUMAN/8b0h.cif. Chain number 0.\n",
      "/home/srayan/conformer-gen/tmalign_mapping.py:114: ParserWarning: Falling back to the 'python' engine because the 'c' engine does not support skipfooter; you can avoid this warning by specifying engine='python'.\n",
      "  tmalign_output = pd.read_csv(os.path.join(directory, raw_file), sep = \"\\t\", skipfooter = 1)\n"
     ]
    }
   ],
   "source": [
    "uniprot_json = tmalign_mapping.find_uniprot(uniprot_df, \"CO5_HUMAN\")\n",
    "domain_info = tmalign_mapping.get_domain_info_for_pdbs(uniprot_json, scop_df)\n",
    "uniprot_path, zipped_status = tmalign_mapping.uniprot_to_pdb(\"CO5_HUMAN\", uniprot_df, zipped_status)\n",
    "tmalign_mapping.compare_proteins_domain(\"/nfs/turbo/lsa-tewaria/uniprot/CO5_HUMAN\", domain_info)"
   ]
  },
  {
   "cell_type": "markdown",
   "metadata": {},
   "source": [
    "# All Uniprot IDs - Smart version\n",
    "\n",
    "**NOTE: DON'T RUN THE BELOW CODE CHUNK. IT WILL TAKE A LONG TIME**"
   ]
  },
  {
   "cell_type": "code",
   "execution_count": null,
   "metadata": {},
   "outputs": [],
   "source": [
    "# Get Unique Uniprot IDs\n",
    "uniprot_ids = uniprot_df[\"uniprot_id\"].unique()  \n",
    "\n",
    "for uniprot_id in uniprot_ids:\n",
    "    # Find Uniprot data\n",
    "    uniprot_json = tmalign_mapping.find_uniprot(uniprot_df, uniprot_id)\n",
    "\n",
    "    # Get the uniprot domain info\n",
    "    domain_info = tmalign_mapping.get_domain_info_for_pdbs(uniprot_json, scop_df)\n",
    "\n",
    "    # Move PDBs to Uniprot folders\n",
    "    uniprot_path, zipped_status = tmalign_mapping.uniprot_to_pdb(uniprot_id, uniprot_df, zipped_status)\n",
    "\n",
    "    # Compare proteins in Uniprot folder\n",
    "    tmalign_mapping.compare_proteins_domain(uniprot_path, domain_info)"
   ]
  },
  {
   "cell_type": "markdown",
   "metadata": {},
   "source": [
    "# Checking the zip function "
   ]
  },
  {
   "cell_type": "code",
   "execution_count": 5,
   "metadata": {},
   "outputs": [],
   "source": [
    "def zip_cif_folder(directory):\n",
    "    for filename in os.listdir(directory):\n",
    "        if filename.endswith(\".cif\"):\n",
    "            filename_new = os.path.join(directory, filename)\n",
    "            os.remove(filename_new)"
   ]
  },
  {
   "cell_type": "code",
   "execution_count": 9,
   "metadata": {},
   "outputs": [],
   "source": [
    "def zip_mmcif_dir(directory):\n",
    "    for filename in os.listdir(directory):\n",
    "        new_dir = os.path.join(directory, filename)\n",
    "        if os.path.isdir(new_dir):\n",
    "            zip_cif_folder(new_dir)"
   ]
  },
  {
   "cell_type": "code",
   "execution_count": 7,
   "metadata": {},
   "outputs": [],
   "source": [
    "dir_path = \"/nfs/turbo/lsa-tewaria/mmCIF/hq\"\n",
    "zip_cif_folder(dir_path)"
   ]
  },
  {
   "cell_type": "code",
   "execution_count": 10,
   "metadata": {},
   "outputs": [],
   "source": [
    "zip_mmcif_dir(\"/nfs/turbo/lsa-tewaria/mmCIF\")"
   ]
  },
  {
   "cell_type": "markdown",
   "metadata": {},
   "source": [
    "# Single uniprot ID "
   ]
  },
  {
   "cell_type": "code",
   "execution_count": 15,
   "metadata": {},
   "outputs": [
    {
     "name": "stderr",
     "output_type": "stream",
     "text": [
      "Warning! Cannot parse file: /nfs/turbo/lsa-tewaria/uniprot/CO5_HUMAN/1cfa.cif. Chain number 0.\n",
      "Warning! Cannot parse file: /nfs/turbo/lsa-tewaria/uniprot/CO5_HUMAN/4p39.cif. Chain number 0.\n",
      "Warning! Cannot parse file: /nfs/turbo/lsa-tewaria/uniprot/CO5_HUMAN/5b71.cif. Chain number 0.\n",
      "Warning! Cannot parse file: /nfs/turbo/lsa-tewaria/uniprot/CO5_HUMAN/5hcc.cif. Chain number 0.\n",
      "Warning! Cannot parse file: /nfs/turbo/lsa-tewaria/uniprot/CO5_HUMAN/5hcd.cif. Chain number 0.\n",
      "Warning! Cannot parse file: /nfs/turbo/lsa-tewaria/uniprot/CO5_HUMAN/5hce.cif. Chain number 0.\n",
      "Warning! Cannot parse file: /nfs/turbo/lsa-tewaria/uniprot/CO5_HUMAN/6rpt.cif. Chain number 0.\n",
      "Warning! Cannot parse file: /nfs/turbo/lsa-tewaria/uniprot/CO5_HUMAN/4p39.cif. Chain number 0.\n",
      "Warning! Cannot parse file: /nfs/turbo/lsa-tewaria/uniprot/CO5_HUMAN/5b71.cif. Chain number 0.\n",
      "Warning! Cannot parse file: /nfs/turbo/lsa-tewaria/uniprot/CO5_HUMAN/5hcc.cif. Chain number 0.\n",
      "Warning! Cannot parse file: /nfs/turbo/lsa-tewaria/uniprot/CO5_HUMAN/5hcd.cif. Chain number 0.\n",
      "Warning! Cannot parse file: /nfs/turbo/lsa-tewaria/uniprot/CO5_HUMAN/5hce.cif. Chain number 0.\n",
      "Warning! Cannot parse file: /nfs/turbo/lsa-tewaria/uniprot/CO5_HUMAN/6rpt.cif. Chain number 0.\n",
      "Warning! Cannot parse file: /nfs/turbo/lsa-tewaria/uniprot/CO5_HUMAN/4p39.cif. Chain number 0.\n",
      "Warning! Cannot parse file: /nfs/turbo/lsa-tewaria/uniprot/CO5_HUMAN/5b71.cif. Chain number 0.\n",
      "Warning! Cannot parse file: /nfs/turbo/lsa-tewaria/uniprot/CO5_HUMAN/5hcc.cif. Chain number 0.\n",
      "Warning! Cannot parse file: /nfs/turbo/lsa-tewaria/uniprot/CO5_HUMAN/5hcd.cif. Chain number 0.\n",
      "Warning! Cannot parse file: /nfs/turbo/lsa-tewaria/uniprot/CO5_HUMAN/5hce.cif. Chain number 0.\n",
      "Warning! Cannot parse file: /nfs/turbo/lsa-tewaria/uniprot/CO5_HUMAN/6rpt.cif. Chain number 0.\n",
      "/home/srayan/conformer-gen/tmalign_mapping.py:138: ParserWarning: Falling back to the 'python' engine because the 'c' engine does not support skipfooter; you can avoid this warning by specifying engine='python'.\n",
      "  tmalign_output = pd.read_csv(os.path.join(directory, raw_file), sep = \"\\t\", skipfooter = 1)\n",
      "Warning! Cannot parse file: /nfs/turbo/lsa-tewaria/uniprot/CO5_HUMAN/1kjs.cif. Chain number 0.\n",
      "Warning! Cannot parse file: /nfs/turbo/lsa-tewaria/uniprot/CO5_HUMAN/4uu9.cif. Chain number 0.\n",
      "Warning! Cannot parse file: /nfs/turbo/lsa-tewaria/uniprot/CO5_HUMAN/5b4p.cif. Chain number 0.\n",
      "Warning! Cannot parse file: /nfs/turbo/lsa-tewaria/uniprot/CO5_HUMAN/7y64.cif. Chain number 0.\n",
      "Warning! Cannot parse file: /nfs/turbo/lsa-tewaria/uniprot/CO5_HUMAN/8hk5.cif. Chain number 0.\n",
      "/home/srayan/conformer-gen/tmalign_mapping.py:138: ParserWarning: Falling back to the 'python' engine because the 'c' engine does not support skipfooter; you can avoid this warning by specifying engine='python'.\n",
      "  tmalign_output = pd.read_csv(os.path.join(directory, raw_file), sep = \"\\t\", skipfooter = 1)\n",
      "Warning! Cannot parse file: /nfs/turbo/lsa-tewaria/uniprot/CO5_HUMAN/3cu7.cif. Chain number 0.\n",
      "Warning! Cannot parse file: /nfs/turbo/lsa-tewaria/uniprot/CO5_HUMAN/3kls.cif. Chain number 0.\n",
      "Warning! Cannot parse file: /nfs/turbo/lsa-tewaria/uniprot/CO5_HUMAN/3km9.cif. Chain number 0.\n",
      "Warning! Cannot parse file: /nfs/turbo/lsa-tewaria/uniprot/CO5_HUMAN/3prx.cif. Chain number 0.\n",
      "Warning! Cannot parse file: /nfs/turbo/lsa-tewaria/uniprot/CO5_HUMAN/3pvm.cif. Chain number 0.\n",
      "Warning! Cannot parse file: /nfs/turbo/lsa-tewaria/uniprot/CO5_HUMAN/4a5w.cif. Chain number 0.\n",
      "Warning! Cannot parse file: /nfs/turbo/lsa-tewaria/uniprot/CO5_HUMAN/5i5k.cif. Chain number 0.\n",
      "Warning! Cannot parse file: /nfs/turbo/lsa-tewaria/uniprot/CO5_HUMAN/6h03.cif. Chain number 0.\n",
      "Warning! Cannot parse file: /nfs/turbo/lsa-tewaria/uniprot/CO5_HUMAN/6h04.cif. Chain number 0.\n",
      "Warning! Cannot parse file: /nfs/turbo/lsa-tewaria/uniprot/CO5_HUMAN/6rqj.cif. Chain number 0.\n",
      "Warning! Cannot parse file: /nfs/turbo/lsa-tewaria/uniprot/CO5_HUMAN/7ad6.cif. Chain number 0.\n",
      "Warning! Cannot parse file: /nfs/turbo/lsa-tewaria/uniprot/CO5_HUMAN/7ad7.cif. Chain number 0.\n",
      "Warning! Cannot parse file: /nfs/turbo/lsa-tewaria/uniprot/CO5_HUMAN/7nyc.cif. Chain number 0.\n",
      "Warning! Cannot parse file: /nfs/turbo/lsa-tewaria/uniprot/CO5_HUMAN/7nyd.cif. Chain number 0.\n",
      "Warning! Cannot parse file: /nfs/turbo/lsa-tewaria/uniprot/CO5_HUMAN/8b0f.cif. Chain number 0.\n",
      "Warning! Cannot parse file: /nfs/turbo/lsa-tewaria/uniprot/CO5_HUMAN/8b0g.cif. Chain number 0.\n",
      "Warning! Cannot parse file: /nfs/turbo/lsa-tewaria/uniprot/CO5_HUMAN/8b0h.cif. Chain number 0.\n",
      "Warning! Cannot parse file: /nfs/turbo/lsa-tewaria/uniprot/CO5_HUMAN/5i5k.cif. Chain number 0.\n",
      "Warning! Cannot parse file: /nfs/turbo/lsa-tewaria/uniprot/CO5_HUMAN/6h03.cif. Chain number 0.\n",
      "Warning! Cannot parse file: /nfs/turbo/lsa-tewaria/uniprot/CO5_HUMAN/6h04.cif. Chain number 0.\n",
      "Warning! Cannot parse file: /nfs/turbo/lsa-tewaria/uniprot/CO5_HUMAN/6rqj.cif. Chain number 0.\n",
      "Warning! Cannot parse file: /nfs/turbo/lsa-tewaria/uniprot/CO5_HUMAN/7ad6.cif. Chain number 0.\n",
      "Warning! Cannot parse file: /nfs/turbo/lsa-tewaria/uniprot/CO5_HUMAN/7ad7.cif. Chain number 0.\n",
      "Warning! Cannot parse file: /nfs/turbo/lsa-tewaria/uniprot/CO5_HUMAN/7nyc.cif. Chain number 0.\n",
      "Warning! Cannot parse file: /nfs/turbo/lsa-tewaria/uniprot/CO5_HUMAN/7nyd.cif. Chain number 0.\n",
      "Warning! Cannot parse file: /nfs/turbo/lsa-tewaria/uniprot/CO5_HUMAN/8b0f.cif. Chain number 0.\n",
      "Warning! Cannot parse file: /nfs/turbo/lsa-tewaria/uniprot/CO5_HUMAN/8b0g.cif. Chain number 0.\n",
      "Warning! Cannot parse file: /nfs/turbo/lsa-tewaria/uniprot/CO5_HUMAN/8b0h.cif. Chain number 0.\n",
      "/home/srayan/conformer-gen/tmalign_mapping.py:138: ParserWarning: Falling back to the 'python' engine because the 'c' engine does not support skipfooter; you can avoid this warning by specifying engine='python'.\n",
      "  tmalign_output = pd.read_csv(os.path.join(directory, raw_file), sep = \"\\t\", skipfooter = 1)\n"
     ]
    }
   ],
   "source": [
    "uniprot_json = tmalign_mapping.find_uniprot(uniprot_df, \"CO5_HUMAN\")\n",
    "domain_info = tmalign_mapping.get_domain_info_for_pdbs(uniprot_json, scop_df)\n",
    "uniprot_path= tmalign_mapping.uniprot_to_pdb_efficient(\"CO5_HUMAN\", uniprot_df, write = False)\n",
    "tmalign_mapping.compare_proteins_domain_efficient(\"/nfs/turbo/lsa-tewaria/uniprot/CO5_HUMAN\", domain_info)"
   ]
  },
  {
   "cell_type": "code",
   "execution_count": 37,
   "metadata": {},
   "outputs": [
    {
     "data": {
      "text/plain": [
       "'MARRSVLYFILLNALINKGQACFCDHYAWTQWTSCSKTCNSGTQSRHRQIVVDKYYQENFCEQICSKQETRECNWQRCPINCLLGDFGPWSDCDPCIEKQSKVRSVLRPSQFGGQPCTAPLVAFQPCIPSKLCKIEEADCKNKFRCDSGRCIARKLECNGENDCGDNSDERDCGRTKAVCTRKYNPIPSVQLMGNGFHFLAGEPRGEVLDNSFTGGICKTVKSSRTSNPYRVPANLENVGFEVQTAEDDLKTDFYKDLTSLGHNENQQGSFSSQGGSSFSVPIFYSSKRSENINHNSAFKQAIQASHKKDSSFIRIHKVMKVLNFTTKAKDLHLSDVFLKALNHLPLEYNSALYSRIFDDFGTHYFTSGSLGGVYDLLYQFSSEELKNSGLTEEEAKHCVRIETKKRVLFAKKTKVEHRCTTNKLSEKHEGSFIQGAEKSISLIRGGRSEYGAALAWEKGSSGLEEKTFSEWLESVKENPAVIDFELAPIVDLVRNIPCAVTKRNNLRKALQEYAAKFDPCQCAPCPNNGRPTLSGTECLCVCQSGTYGENCEKQSPDYKSNAVDGQWGCWSSWSTCDATYKRSRTRECNNPAPQRGGKRCEGEKRQEEDCTFSIMENNGQPCINDDEEMKEVDLPEIEADSGCPQPVPPENGFIRNEKQLYLVGEDVEISCLTGFETVGYQYFRCLPDGTWRQGDVECQRTECIKPVVQEVLTITPFQRLYRIGESIELTCPKGFVVAGPSRYTCQGNSWTPPISNSLTCEKDTLTKLKGHCQLGQKQSGSECICMSPEEDCSHHSEDLCVFDTDSNDYFTSPACKFLAEKCLNNQQLHFLHIGSCQDGRQLEWGLERTRLSSNSTKKESCGYDTCYDWEKCSASTSKCVCLLPPQCFKGGNQLYCVKMGSSTSEKTLNICEVGTIRCANRKMEILHPGKCLA'"
      ]
     },
     "execution_count": 37,
     "metadata": {},
     "output_type": "execute_result"
    }
   ],
   "source": [
    "def extract_sequence(json_file):\n",
    "    return json_file[\"sequence\"][\"value\"]\n",
    "\n",
    "lol = tmalign_mapping.find_uniprot(uniprot_df, \"CO5_HUMAN\")\n",
    "# extract_sequence(lol)\n",
    "lol_2 = tmalign_mapping.find_uniprot(uniprot_df, \"CO6_HUMAN\")\n",
    "extract_sequence(lol_2)"
   ]
  },
  {
   "cell_type": "code",
   "execution_count": 23,
   "metadata": {},
   "outputs": [],
   "source": [
    "aligner = Align.PairwiseAligner()\n",
    "aligner.mode = 'local'\n",
    "aligner.open_gap_score = -11\n",
    "aligner.extend_gap_score = -1\n",
    "aligner.substitution_matrix = Align.substitution_matrices.load(\"BLOSUM62\")"
   ]
  },
  {
   "cell_type": "markdown",
   "metadata": {},
   "source": [
    "# Splitting pdb files with multiple chains and multiple p"
   ]
  },
  {
   "cell_type": "code",
   "execution_count": 38,
   "metadata": {},
   "outputs": [],
   "source": [
    "def split_pdb_structure(uniprot_id):\n",
    "    uniprot_path = os.path.join(\"/nfs/turbo/lsa-tewaria/uniprot/\", uniprot_id)\n",
    "    seq = extract_sequence(lol)\n",
    "    for pdb_id in os.listdir(uniprot_path):\n",
    "        if not pdb_id.endswith(\".cif\"):\n",
    "            continue\n",
    "        pdb_path = os.path.join(uniprot_path, pdb_id)\n",
    "        pdb = bpdb.MMCIFParser().get_structure(pdb_id, pdb_path)\n",
    "        if pdb_id != \"4e0s.cif\":\n",
    "            continue\n",
    "        for model in pdb:\n",
    "            i = 0\n",
    "            polypeptides = bpdb.PPBuilder().build_peptides(model)\n",
    "            for chain, pp in zip(model, polypeptides):\n",
    "                model_id = str(model.get_id())\n",
    "                chain_id = str(chain.get_id())\n",
    "                \n",
    "                print(pp.get_sequence())\n",
    "                alignment = aligner.align(pp.get_sequence(), seq)\n",
    "                print(alignment[0].aligned)\n",
    "                \n",
    "                chain_path = os.path.join(uniprot_path, pdb_id[:-4] + \"_\"+ model_id + chain_id + \".pdb\")\n",
    "                print(chain_path)\n",
    "                # if i == 4:\n",
    "                #     alignment = aligner.align(pp.get_sequence(), extract_sequence(lol_2))\n",
    "                #     print(alignment[0].aligned)\n",
    "                i +=1\n",
    "                # io = bpdb.PDBIO()\n",
    "                # io.set_structure(chain)\n",
    "                # io.save(chain_path)\n",
    "\n"
   ]
  },
  {
   "cell_type": "code",
   "execution_count": 39,
   "metadata": {},
   "outputs": [
    {
     "name": "stderr",
     "output_type": "stream",
     "text": [
      "/home/srayan/miniconda3/envs/idp/lib/python3.10/site-packages/Bio/PDB/StructureBuilder.py:89: PDBConstructionWarning: WARNING: Chain A is discontinuous at line 2143.\n",
      "  warnings.warn(\n",
      "/home/srayan/miniconda3/envs/idp/lib/python3.10/site-packages/Bio/PDB/StructureBuilder.py:89: PDBConstructionWarning: WARNING: Chain B is discontinuous at line 2154.\n",
      "  warnings.warn(\n",
      "/home/srayan/miniconda3/envs/idp/lib/python3.10/site-packages/Bio/PDB/StructureBuilder.py:89: PDBConstructionWarning: WARNING: Chain C is discontinuous at line 2158.\n",
      "  warnings.warn(\n",
      "/home/srayan/miniconda3/envs/idp/lib/python3.10/site-packages/Bio/PDB/StructureBuilder.py:89: PDBConstructionWarning: WARNING: Chain D is discontinuous at line 2161.\n",
      "  warnings.warn(\n",
      "/home/srayan/miniconda3/envs/idp/lib/python3.10/site-packages/Bio/PDB/StructureBuilder.py:89: PDBConstructionWarning: WARNING: Chain A is discontinuous at line 19429.\n",
      "  warnings.warn(\n",
      "/home/srayan/miniconda3/envs/idp/lib/python3.10/site-packages/Bio/PDB/StructureBuilder.py:89: PDBConstructionWarning: WARNING: Chain B is discontinuous at line 19430.\n",
      "  warnings.warn(\n"
     ]
    },
    {
     "name": "stdout",
     "output_type": "stream",
     "text": [
      "EQTYVISAPKIFRVGASENIVIQVYGYTEAFDATISIKSYPDKKFSYSSGHVHLSSENKFQNSAILTIQPKQLPGGQNPVSYVYLEVVSKHFSKSKRMPITYDNGFLFIHTDKPVYTPDQSVKVRVYSLNDDLKPAKRETVLTFIDPEGSEVDMVEEIDHIGIISFPDFKIPSNPRYGMWTIKAKYKEDFSTTGTAYFEVKEYVLPHFSVSIEPEYNFIGYKNFKNFEITIKARYFYNKVVTEADVYITFGIREDLKDDQKEMMQTAMQNTMLINGIAQVTFDSETAVKELSYYSLEDLNNKYLYIAVTVIESTGGFSEEAEIPGIKYVLSPYKLNLVATPLFLKPGIPYPIKVQVKDSLDQLVGGVPVTLNAQTIDVNQETSDLDPSKSVTRVDDGVASFVLNLPSGVTVLEFNVKTDAPDLPEENQAREGYRAIAYSSLSQSYLYIDWTDNHKALLVGEHLNIIVTPKSPYIDKITHYNYLILSKGKIIHFGTREKFSDASYQSINIPVTQNMVPSSRLLVYYIVTGEQTAELVSDSVWLNIEEKCGNQLQVHLSPDADAYSPGQTVSLNMATGMDSWVALAAVDSAVYGVQRGAKKPLERVFQFLEKSDLGCGAGGGLNNANVFHLAGLTFLTNANADDSQENDEPCKEILRPR\n",
      "(((0, 657),), ((19, 676),))\n",
      "/nfs/turbo/lsa-tewaria/uniprot/CO5_HUMAN/4e0s_0A.pdb\n",
      "SKPEIRSYFPESWLWEVHLVPRRKQLQFALPDSLTTWEIQGIGISNTGICVADTVKAKVFKDVFLEMNIPYSVVRGEQIQLKGTVYNYRTSGMQFCVKMSAVEGICTSES\n",
      "(((0, 110),), ((760, 870),))\n",
      "/nfs/turbo/lsa-tewaria/uniprot/CO5_HUMAN/4e0s_0B.pdb\n",
      "KCVRQKVEGSSSHLVTFTVLPLEIGLHNINFSLETWFGKEILVKTLRVVPEGVKRESYSGVTLDPRGIYGTISRRKEFPYRIPLDLVPKTEIKRILSVKGLLVGEILSAVLSQEGINILTHLPKGSAEAELMSVVPVFYVFHYLETGNHWNIFHSDPLIEKQKLKKKLKEGMLSIMSYRNADYSYSVWKGGSASTWLTAFALRVLGQVNKYVEQNQNSICNSLLWLVENYQLDNGSFKENSQYQPIKLQGTLPVEARENSLYLTAFTVIGIRKAFDICPLVKIDTALIKADNFLLENTLPAQSTFTLAISAYALSLGDKTHPQFRSIVSALKREALVKGNPPIYRFWKDNLQHKDSSVPNTGTARMVETTAYALLTSLNLKDINYVNPVIKWLSEEQRYGGGFYSTQDTINAIEGLTEYSLLVKQLRLSMDIDVSYKHKGALHNYKMTDKNFLGRPVEVLLNDDLIVSTGFGSGLATVHVTTVVHKTSTSEEVCSFYLKIDTQDIE\n",
      "(((0, 506),), ((881, 1387),))\n",
      "/nfs/turbo/lsa-tewaria/uniprot/CO5_HUMAN/4e0s_0C.pdb\n",
      "DYKRIVACASYKPSREESSSGSSHAVMDISLPTGISANEEDLKALVEGVDQLFTDYQIKDGHVILQLNSIPSSDFLCVRFRIFELFEVGFLSPATFTVYEYHRPDKQCTMFYSTSNIKIQKVCEGAACKCVEADCGQMQEELDLTISAETRKQTACKPEIAYAYKVSITSITVENVFVKYKATLLDIYKTGEAVAEKDSEITFIKKVTCTNAELVKGRQYLIMGKEALQIKYNFSFRYIYPLDSLTWIEYWPRDTTCSSCQAFLANLDEFAEDIFLNGC\n",
      "(((0, 279),), ((1397, 1676),))\n",
      "/nfs/turbo/lsa-tewaria/uniprot/CO5_HUMAN/4e0s_0D.pdb\n",
      "CFCDHYAWTQWTSCSKTCNSGTQSRHRQIVVDKYYQENFCEQICSKQETRECNWQRCPINCLLGDFGPWSDCDPCIEKQSKVRSVLRPSQFGGQPCTAPLVAFQPCIPSKLCKIEEADCKNKFRCDSGRCIARKLECNGENDCGDNSDERDCGRTKAVCTRKYNPIPSVQLMGNGFHFLAGEPRGEVLDNSFTGGICKTVKSSRTSNPYRVPANLENVGFEVQTAEDDLKTDFYKDLTSLGHNENQQG\n",
      "(((194, 200), (201, 215)), ((947, 953), (953, 967)))\n",
      "/nfs/turbo/lsa-tewaria/uniprot/CO5_HUMAN/4e0s_0E.pdb\n",
      "(((0, 248),), ((21, 269),))\n"
     ]
    },
    {
     "name": "stderr",
     "output_type": "stream",
     "text": [
      "/home/srayan/miniconda3/envs/idp/lib/python3.10/site-packages/Bio/PDB/StructureBuilder.py:89: PDBConstructionWarning: WARNING: Chain B is discontinuous at line 14431.\n",
      "  warnings.warn(\n",
      "/home/srayan/miniconda3/envs/idp/lib/python3.10/site-packages/Bio/PDB/StructureBuilder.py:89: PDBConstructionWarning: WARNING: Chain A is discontinuous at line 14439.\n",
      "  warnings.warn(\n",
      "/home/srayan/miniconda3/envs/idp/lib/python3.10/site-packages/Bio/PDB/StructureBuilder.py:89: PDBConstructionWarning: WARNING: Chain C is discontinuous at line 14463.\n",
      "  warnings.warn(\n",
      "/home/srayan/miniconda3/envs/idp/lib/python3.10/site-packages/Bio/PDB/StructureBuilder.py:89: PDBConstructionWarning: WARNING: Chain D is discontinuous at line 14467.\n",
      "  warnings.warn(\n",
      "/home/srayan/miniconda3/envs/idp/lib/python3.10/site-packages/Bio/PDB/StructureBuilder.py:89: PDBConstructionWarning: WARNING: Chain B is discontinuous at line 14471.\n",
      "  warnings.warn(\n",
      "/home/srayan/miniconda3/envs/idp/lib/python3.10/site-packages/Bio/PDB/StructureBuilder.py:89: PDBConstructionWarning: WARNING: Chain A is discontinuous at line 14533.\n",
      "  warnings.warn(\n",
      "/home/srayan/miniconda3/envs/idp/lib/python3.10/site-packages/Bio/PDB/StructureBuilder.py:89: PDBConstructionWarning: WARNING: Chain C is discontinuous at line 14638.\n",
      "  warnings.warn(\n",
      "/home/srayan/miniconda3/envs/idp/lib/python3.10/site-packages/Bio/PDB/StructureBuilder.py:89: PDBConstructionWarning: WARNING: Chain D is discontinuous at line 14641.\n",
      "  warnings.warn(\n"
     ]
    }
   ],
   "source": [
    "split_pdb_structure(\"CO5_HUMAN\")"
   ]
  },
  {
   "cell_type": "code",
   "execution_count": 14,
   "metadata": {},
   "outputs": [
    {
     "data": {
      "text/plain": [
       "'MGLLGILCFLIFLGKTWGQEQTYVISAPKIFRVGASENIVIQVYGYTEAFDATISIKSYPDKKFSYSSGHVHLSSENKFQNSAILTIQPKQLPGGQNPVSYVYLEVVSKHFSKSKRMPITYDNGFLFIHTDKPVYTPDQSVKVRVYSLNDDLKPAKRETVLTFIDPEGSEVDMVEEIDHIGIISFPDFKIPSNPRYGMWTIKAKYKEDFSTTGTAYFEVKEYVLPHFSVSIEPEYNFIGYKNFKNFEITIKARYFYNKVVTEADVYITFGIREDLKDDQKEMMQTAMQNTMLINGIAQVTFDSETAVKELSYYSLEDLNNKYLYIAVTVIESTGGFSEEAEIPGIKYVLSPYKLNLVATPLFLKPGIPYPIKVQVKDSLDQLVGGVPVTLNAQTIDVNQETSDLDPSKSVTRVDDGVASFVLNLPSGVTVLEFNVKTDAPDLPEENQAREGYRAIAYSSLSQSYLYIDWTDNHKALLVGEHLNIIVTPKSPYIDKITHYNYLILSKGKIIHFGTREKFSDASYQSINIPVTQNMVPSSRLLVYYIVTGEQTAELVSDSVWLNIEEKCGNQLQVHLSPDADAYSPGQTVSLNMATGMDSWVALAAVDSAVYGVQRGAKKPLERVFQFLEKSDLGCGAGGGLNNANVFHLAGLTFLTNANADDSQENDEPCKEILRPRRTLQKKIEEIAAKYKHSVVKKCCYDGACVNNDETCEQRAARISLGPRCIKAFTECCVVASQLRANISHKDMQLGRLHMKTLLPVSKPEIRSYFPESWLWEVHLVPRRKQLQFALPDSLTTWEIQGVGISNTGICVADTVKAKVFKDVFLEMNIPYSVVRGEQIQLKGTVYNYRTSGMQFCVKMSAVEGICTSESPVIDHQGTKSSKCVRQKVEGSSSHLVTFTVLPLEIGLHNINFSLETWFGKEILVKTLRVVPEGVKRESYSGVTLDPRGIYGTISRRKEFPYRIPLDLVPKTEIKRILSVKGLLVGEILSAVLSQEGINILTHLPKGSAEAELMSVVPVFYVFHYLETGNHWNIFHSDPLIEKQKLKKKLKEGMLSIMSYRNADYSYSVWKGGSASTWLTAFALRVLGQVNKYVEQNQNSICNSLLWLVENYQLDNGSFKENSQYQPIKLQGTLPVEARENSLYLTAFTVIGIRKAFDICPLVKIDTALIKADNFLLENTLPAQSTFTLAISAYALSLGDKTHPQFRSIVSALKREALVKGNPPIYRFWKDNLQHKDSSVPNTGTARMVETTAYALLTSLNLKDINYVNPVIKWLSEEQRYGGGFYSTQDTINAIEGLTEYSLLVKQLRLSMDIDVSYKHKGALHNYKMTDKNFLGRPVEVLLNDDLIVSTGFGSGLATVHVTTVVHKTSTSEEVCSFYLKIDTQDIEASHYRGYGNSDYKRIVACASYKPSREESSSGSSHAVMDISLPTGISANEEDLKALVEGVDQLFTDYQIKDGHVILQLNSIPSSDFLCVRFRIFELFEVGFLSPATFTVYEYHRPDKQCTMFYSTSNIKIQKVCEGAACKCVEADCGQMQEELDLTISAETRKQTACKPEIAYAYKVSITSITVENVFVKYKATLLDIYKTGEAVAEKDSEITFIKKVTCTNAELVKGRQYLIMGKEALQIKYNFSFRYIYPLDSLTWIEYWPRDTTCSSCQAFLANLDEFAEDIFLNGC'"
      ]
     },
     "execution_count": 14,
     "metadata": {},
     "output_type": "execute_result"
    }
   ],
   "source": []
  },
  {
   "cell_type": "code",
   "execution_count": 13,
   "metadata": {},
   "outputs": [
    {
     "data": {
      "text/plain": [
       "'MGLLGILCFLIFLGKTWGQEQTYVISAPKIFRVGASENIVIQVYGYTEAFDATISIKSYPDKKFSYSSGHVHLSSENKFQNSAILTIQPKQLPGGQNPVSYVYLEVVSKHFSKSKRMPITYDNGFLFIHTDKPVYTPDQSVKVRVYSLNDDLKPAKRETVLTFIDPEGSEVDMVEEIDHIGIISFPDFKIPSNPRYGMWTIKAKYKEDFSTTGTAYFEVKEYVLPHFSVSIEPEYNFIGYKNFKNFEITIKARYFYNKVVTEADVYITFGIREDLKDDQKEMMQTAMQNTMLINGIAQVTFDSETAVKELSYYSLEDLNNKYLYIAVTVIESTGGFSEEAEIPGIKYVLSPYKLNLVATPLFLKPGIPYPIKVQVKDSLDQLVGGVPVTLNAQTIDVNQETSDLDPSKSVTRVDDGVASFVLNLPSGVTVLEFNVKTDAPDLPEENQAREGYRAIAYSSLSQSYLYIDWTDNHKALLVGEHLNIIVTPKSPYIDKITHYNYLILSKGKIIHFGTREKFSDASYQSINIPVTQNMVPSSRLLVYYIVTGEQTAELVSDSVWLNIEEKCGNQLQVHLSPDADAYSPGQTVSLNMATGMDSWVALAAVDSAVYGVQRGAKKPLERVFQFLEKSDLGCGAGGGLNNANVFHLAGLTFLTNANADDSQENDEPCKEILRPRRTLQKKIEEIAAKYKHSVVKKCCYDGACVNNDETCEQRAARISLGPRCIKAFTECCVVASQLRANISHKDMQLGRLHMKTLLPVSKPEIRSYFPESWLWEVHLVPRRKQLQFALPDSLTTWEIQGVGISNTGICVADTVKAKVFKDVFLEMNIPYSVVRGEQIQLKGTVYNYRTSGMQFCVKMSAVEGICTSESPVIDHQGTKSSKCVRQKVEGSSSHLVTFTVLPLEIGLHNINFSLETWFGKEILVKTLRVVPEGVKRESYSGVTLDPRGIYGTISRRKEFPYRIPLDLVPKTEIKRILSVKGLLVGEILSAVLSQEGINILTHLPKGSAEAELMSVVPVFYVFHYLETGNHWNIFHSDPLIEKQKLKKKLKEGMLSIMSYRNADYSYSVWKGGSASTWLTAFALRVLGQVNKYVEQNQNSICNSLLWLVENYQLDNGSFKENSQYQPIKLQGTLPVEARENSLYLTAFTVIGIRKAFDICPLVKIDTALIKADNFLLENTLPAQSTFTLAISAYALSLGDKTHPQFRSIVSALKREALVKGNPPIYRFWKDNLQHKDSSVPNTGTARMVETTAYALLTSLNLKDINYVNPVIKWLSEEQRYGGGFYSTQDTINAIEGLTEYSLLVKQLRLSMDIDVSYKHKGALHNYKMTDKNFLGRPVEVLLNDDLIVSTGFGSGLATVHVTTVVHKTSTSEEVCSFYLKIDTQDIEASHYRGYGNSDYKRIVACASYKPSREESSSGSSHAVMDISLPTGISANEEDLKALVEGVDQLFTDYQIKDGHVILQLNSIPSSDFLCVRFRIFELFEVGFLSPATFTVYEYHRPDKQCTMFYSTSNIKIQKVCEGAACKCVEADCGQMQEELDLTISAETRKQTACKPEIAYAYKVSITSITVENVFVKYKATLLDIYKTGEAVAEKDSEITFIKKVTCTNAELVKGRQYLIMGKEALQIKYNFSFRYIYPLDSLTWIEYWPRDTTCSSCQAFLANLDEFAEDIFLNGC'"
      ]
     },
     "execution_count": 13,
     "metadata": {},
     "output_type": "execute_result"
    }
   ],
   "source": []
  }
 ],
 "metadata": {
  "kernelspec": {
   "display_name": "genIP",
   "language": "python",
   "name": "python3"
  },
  "language_info": {
   "codemirror_mode": {
    "name": "ipython",
    "version": 3
   },
   "file_extension": ".py",
   "mimetype": "text/x-python",
   "name": "python",
   "nbconvert_exporter": "python",
   "pygments_lexer": "ipython3",
   "version": "3.10.13"
  }
 },
 "nbformat": 4,
 "nbformat_minor": 2
}
