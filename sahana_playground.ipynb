{
 "cells": [
  {
   "cell_type": "code",
   "execution_count": 12,
   "metadata": {},
   "outputs": [],
   "source": [
    "import pandas as pd\n",
    "import numpy as np\n",
    "import os\n",
    "import sys\n",
    "import gzip\n",
    "import shutil\n",
    "import json\n",
    "import re\n",
    "import tmalign_mapping\n",
    "import Bio.PDB as bpdb"
   ]
  },
  {
   "cell_type": "markdown",
   "metadata": {},
   "source": [
    "# Zip Status"
   ]
  },
  {
   "cell_type": "code",
   "execution_count": 2,
   "metadata": {},
   "outputs": [],
   "source": [
    "# Zip status\n",
    "zipped_status_path = \"/nfs/turbo/lsa-tewaria/zipped_status.csv\"\n",
    "if not os.path.exists(zipped_status_path):\n",
    "    list_mmcifs = os.listdir(\"/nfs/turbo/lsa-tewaria/mmCIF/\")\n",
    "    zipped_status = pd.DataFrame({\"status\" : [True for i in range(len(list_mmcifs))]}, index = list_mmcifs)\n",
    "    zipped_status.to_csv(zipped_status_path)\n",
    "else:\n",
    "    zipped_status = pd.read_csv(zipped_status_path, index_col = 0)"
   ]
  },
  {
   "cell_type": "markdown",
   "metadata": {},
   "source": [
    "# Uniprot to pdb mappings"
   ]
  },
  {
   "cell_type": "code",
   "execution_count": 13,
   "metadata": {},
   "outputs": [],
   "source": [
    "# Load dataframe PDBs to Uniprot\n",
    "uniprot_pdb_path = \"/nfs/turbo/lsa-tewaria/uniprot_df_small.csv\"\n",
    "uniprot_df = pd.read_csv(uniprot_pdb_path)"
   ]
  },
  {
   "cell_type": "markdown",
   "metadata": {},
   "source": [
    "# Scop data"
   ]
  },
  {
   "cell_type": "code",
   "execution_count": 14,
   "metadata": {},
   "outputs": [],
   "source": [
    "# Load Scop data\n",
    "scop_df = tmalign_mapping.read_scop_file()"
   ]
  },
  {
   "cell_type": "markdown",
   "metadata": {},
   "source": [
    "# Single Uniprot ID - Naive Version. All to All TM align"
   ]
  },
  {
   "cell_type": "code",
   "execution_count": 5,
   "metadata": {},
   "outputs": [
    {
     "name": "stderr",
     "output_type": "stream",
     "text": [
      "/home/srayan/conformer-gen/tmalign_mapping.py:114: ParserWarning: Falling back to the 'python' engine because the 'c' engine does not support skipfooter; you can avoid this warning by specifying engine='python'.\n",
      "  tmalign_output = pd.read_csv(os.path.join(directory, raw_file), sep = \"\\t\", skipfooter = 1)\n"
     ]
    }
   ],
   "source": [
    "# # Move PDBs to Uniprot folders\n",
    "uniprot_path, zipped_status = tmalign_mapping.uniprot_to_pdb(\"CHEY_ECOLI\", uniprot_df, zipped_status)\n",
    "\n",
    "# Compare proteins in Uniprot folder\n",
    "tmalign_mapping.compare_proteins_dir(uniprot_path)\n",
    "\n",
    "# Clean TMalign output\n",
    "tmalign_mapping.clean_TMalign_output(uniprot_path)\n",
    "\n",
    "# Save zipped status\n",
    "zipped_status.to_csv(zipped_status_path)"
   ]
  },
  {
   "cell_type": "markdown",
   "metadata": {},
   "source": [
    "# All Uniprot IDs - Naive version\n",
    "\n",
    "**NOTE: DON'T RUN THE BELOW CODE CHUNK. IT WILL TAKE A LONG TIME**"
   ]
  },
  {
   "cell_type": "code",
   "execution_count": null,
   "metadata": {},
   "outputs": [],
   "source": [
    "# Get Unique Uniprot IDs\n",
    "uniprot_ids = uniprot_df[\"uniprot_id\"].unique()  \n",
    "for uniprot_id in uniprot_ids:\n",
    "    # Find Uniprot data\n",
    "    uniprot_json = tmalign_mapping.find_uniprot(uniprot_df, uniprot_id)\n",
    "\n",
    "    # Move PDBs to Uniprot folders\n",
    "    uniprot_path, zipped_status = tmalign_mapping.uniprot_to_pdb(uniprot_id, uniprot_df, zipped_status)\n",
    "\n",
    "    # Compare proteins in Uniprot folder\n",
    "    tmalign_mapping.compare_proteins_dir(uniprot_path)\n",
    "\n",
    "    # Clean TMalign output\n",
    "    tmalign_mapping.clean_TMalign_output(uniprot_path)\n",
    "    "
   ]
  },
  {
   "cell_type": "markdown",
   "metadata": {},
   "source": [
    "# Single Uniprot ID - Smart versions"
   ]
  },
  {
   "cell_type": "code",
   "execution_count": 7,
   "metadata": {},
   "outputs": [
    {
     "name": "stderr",
     "output_type": "stream",
     "text": [
      "Warning! Cannot parse file: /nfs/turbo/lsa-tewaria/uniprot/CO5_HUMAN/1cfa.cif. Chain number 0.\n",
      "Warning! Cannot parse file: /nfs/turbo/lsa-tewaria/uniprot/CO5_HUMAN/4p39.cif. Chain number 0.\n",
      "Warning! Cannot parse file: /nfs/turbo/lsa-tewaria/uniprot/CO5_HUMAN/5b71.cif. Chain number 0.\n",
      "Warning! Cannot parse file: /nfs/turbo/lsa-tewaria/uniprot/CO5_HUMAN/5hcc.cif. Chain number 0.\n",
      "Warning! Cannot parse file: /nfs/turbo/lsa-tewaria/uniprot/CO5_HUMAN/5hcd.cif. Chain number 0.\n",
      "Warning! Cannot parse file: /nfs/turbo/lsa-tewaria/uniprot/CO5_HUMAN/5hce.cif. Chain number 0.\n",
      "Warning! Cannot parse file: /nfs/turbo/lsa-tewaria/uniprot/CO5_HUMAN/6rpt.cif. Chain number 0.\n",
      "Warning! Cannot parse file: /nfs/turbo/lsa-tewaria/uniprot/CO5_HUMAN/4p39.cif. Chain number 0.\n",
      "Warning! Cannot parse file: /nfs/turbo/lsa-tewaria/uniprot/CO5_HUMAN/5b71.cif. Chain number 0.\n",
      "Warning! Cannot parse file: /nfs/turbo/lsa-tewaria/uniprot/CO5_HUMAN/5hcc.cif. Chain number 0.\n",
      "Warning! Cannot parse file: /nfs/turbo/lsa-tewaria/uniprot/CO5_HUMAN/5hcd.cif. Chain number 0.\n",
      "Warning! Cannot parse file: /nfs/turbo/lsa-tewaria/uniprot/CO5_HUMAN/5hce.cif. Chain number 0.\n",
      "Warning! Cannot parse file: /nfs/turbo/lsa-tewaria/uniprot/CO5_HUMAN/6rpt.cif. Chain number 0.\n",
      "Warning! Cannot parse file: /nfs/turbo/lsa-tewaria/uniprot/CO5_HUMAN/4p39.cif. Chain number 0.\n",
      "Warning! Cannot parse file: /nfs/turbo/lsa-tewaria/uniprot/CO5_HUMAN/5b71.cif. Chain number 0.\n",
      "Warning! Cannot parse file: /nfs/turbo/lsa-tewaria/uniprot/CO5_HUMAN/5hcc.cif. Chain number 0.\n",
      "Warning! Cannot parse file: /nfs/turbo/lsa-tewaria/uniprot/CO5_HUMAN/5hcd.cif. Chain number 0.\n",
      "Warning! Cannot parse file: /nfs/turbo/lsa-tewaria/uniprot/CO5_HUMAN/5hce.cif. Chain number 0.\n",
      "Warning! Cannot parse file: /nfs/turbo/lsa-tewaria/uniprot/CO5_HUMAN/6rpt.cif. Chain number 0.\n",
      "/home/srayan/conformer-gen/tmalign_mapping.py:114: ParserWarning: Falling back to the 'python' engine because the 'c' engine does not support skipfooter; you can avoid this warning by specifying engine='python'.\n",
      "  tmalign_output = pd.read_csv(os.path.join(directory, raw_file), sep = \"\\t\", skipfooter = 1)\n",
      "Warning! Cannot parse file: /nfs/turbo/lsa-tewaria/uniprot/CO5_HUMAN/1kjs.cif. Chain number 0.\n",
      "Warning! Cannot parse file: /nfs/turbo/lsa-tewaria/uniprot/CO5_HUMAN/4uu9.cif. Chain number 0.\n",
      "Warning! Cannot parse file: /nfs/turbo/lsa-tewaria/uniprot/CO5_HUMAN/5b4p.cif. Chain number 0.\n",
      "Warning! Cannot parse file: /nfs/turbo/lsa-tewaria/uniprot/CO5_HUMAN/7y64.cif. Chain number 0.\n",
      "Warning! Cannot parse file: /nfs/turbo/lsa-tewaria/uniprot/CO5_HUMAN/8hk5.cif. Chain number 0.\n",
      "/home/srayan/conformer-gen/tmalign_mapping.py:114: ParserWarning: Falling back to the 'python' engine because the 'c' engine does not support skipfooter; you can avoid this warning by specifying engine='python'.\n",
      "  tmalign_output = pd.read_csv(os.path.join(directory, raw_file), sep = \"\\t\", skipfooter = 1)\n",
      "Warning! Cannot parse file: /nfs/turbo/lsa-tewaria/uniprot/CO5_HUMAN/3cu7.cif. Chain number 0.\n",
      "Warning! Cannot parse file: /nfs/turbo/lsa-tewaria/uniprot/CO5_HUMAN/3kls.cif. Chain number 0.\n",
      "Warning! Cannot parse file: /nfs/turbo/lsa-tewaria/uniprot/CO5_HUMAN/3km9.cif. Chain number 0.\n",
      "Warning! Cannot parse file: /nfs/turbo/lsa-tewaria/uniprot/CO5_HUMAN/3prx.cif. Chain number 0.\n",
      "Warning! Cannot parse file: /nfs/turbo/lsa-tewaria/uniprot/CO5_HUMAN/3pvm.cif. Chain number 0.\n",
      "Warning! Cannot parse file: /nfs/turbo/lsa-tewaria/uniprot/CO5_HUMAN/4a5w.cif. Chain number 0.\n",
      "Warning! Cannot parse file: /nfs/turbo/lsa-tewaria/uniprot/CO5_HUMAN/5i5k.cif. Chain number 0.\n",
      "Warning! Cannot parse file: /nfs/turbo/lsa-tewaria/uniprot/CO5_HUMAN/6h03.cif. Chain number 0.\n",
      "Warning! Cannot parse file: /nfs/turbo/lsa-tewaria/uniprot/CO5_HUMAN/6h04.cif. Chain number 0.\n",
      "Warning! Cannot parse file: /nfs/turbo/lsa-tewaria/uniprot/CO5_HUMAN/6rqj.cif. Chain number 0.\n",
      "Warning! Cannot parse file: /nfs/turbo/lsa-tewaria/uniprot/CO5_HUMAN/7ad6.cif. Chain number 0.\n",
      "Warning! Cannot parse file: /nfs/turbo/lsa-tewaria/uniprot/CO5_HUMAN/7ad7.cif. Chain number 0.\n",
      "Warning! Cannot parse file: /nfs/turbo/lsa-tewaria/uniprot/CO5_HUMAN/7nyc.cif. Chain number 0.\n",
      "Warning! Cannot parse file: /nfs/turbo/lsa-tewaria/uniprot/CO5_HUMAN/7nyd.cif. Chain number 0.\n",
      "Warning! Cannot parse file: /nfs/turbo/lsa-tewaria/uniprot/CO5_HUMAN/8b0f.cif. Chain number 0.\n",
      "Warning! Cannot parse file: /nfs/turbo/lsa-tewaria/uniprot/CO5_HUMAN/8b0g.cif. Chain number 0.\n",
      "Warning! Cannot parse file: /nfs/turbo/lsa-tewaria/uniprot/CO5_HUMAN/8b0h.cif. Chain number 0.\n",
      "Warning! Cannot parse file: /nfs/turbo/lsa-tewaria/uniprot/CO5_HUMAN/5i5k.cif. Chain number 0.\n",
      "Warning! Cannot parse file: /nfs/turbo/lsa-tewaria/uniprot/CO5_HUMAN/6h03.cif. Chain number 0.\n",
      "Warning! Cannot parse file: /nfs/turbo/lsa-tewaria/uniprot/CO5_HUMAN/6h04.cif. Chain number 0.\n",
      "Warning! Cannot parse file: /nfs/turbo/lsa-tewaria/uniprot/CO5_HUMAN/6rqj.cif. Chain number 0.\n",
      "Warning! Cannot parse file: /nfs/turbo/lsa-tewaria/uniprot/CO5_HUMAN/7ad6.cif. Chain number 0.\n",
      "Warning! Cannot parse file: /nfs/turbo/lsa-tewaria/uniprot/CO5_HUMAN/7ad7.cif. Chain number 0.\n",
      "Warning! Cannot parse file: /nfs/turbo/lsa-tewaria/uniprot/CO5_HUMAN/7nyc.cif. Chain number 0.\n",
      "Warning! Cannot parse file: /nfs/turbo/lsa-tewaria/uniprot/CO5_HUMAN/7nyd.cif. Chain number 0.\n",
      "Warning! Cannot parse file: /nfs/turbo/lsa-tewaria/uniprot/CO5_HUMAN/8b0f.cif. Chain number 0.\n",
      "Warning! Cannot parse file: /nfs/turbo/lsa-tewaria/uniprot/CO5_HUMAN/8b0g.cif. Chain number 0.\n",
      "Warning! Cannot parse file: /nfs/turbo/lsa-tewaria/uniprot/CO5_HUMAN/8b0h.cif. Chain number 0.\n",
      "/home/srayan/conformer-gen/tmalign_mapping.py:114: ParserWarning: Falling back to the 'python' engine because the 'c' engine does not support skipfooter; you can avoid this warning by specifying engine='python'.\n",
      "  tmalign_output = pd.read_csv(os.path.join(directory, raw_file), sep = \"\\t\", skipfooter = 1)\n"
     ]
    }
   ],
   "source": [
    "uniprot_json = tmalign_mapping.find_uniprot(uniprot_df, \"CO5_HUMAN\")\n",
    "domain_info = tmalign_mapping.get_domain_info_for_pdbs(uniprot_json, scop_df)\n",
    "uniprot_path, zipped_status = tmalign_mapping.uniprot_to_pdb(\"CO5_HUMAN\", uniprot_df, zipped_status)\n",
    "tmalign_mapping.compare_proteins_domain(\"/nfs/turbo/lsa-tewaria/uniprot/CO5_HUMAN\", domain_info)"
   ]
  },
  {
   "cell_type": "markdown",
   "metadata": {},
   "source": [
    "# All Uniprot IDs - Smart version\n",
    "\n",
    "**NOTE: DON'T RUN THE BELOW CODE CHUNK. IT WILL TAKE A LONG TIME**"
   ]
  },
  {
   "cell_type": "code",
   "execution_count": null,
   "metadata": {},
   "outputs": [],
   "source": [
    "# Get Unique Uniprot IDs\n",
    "uniprot_ids = uniprot_df[\"uniprot_id\"].unique()  \n",
    "\n",
    "for uniprot_id in uniprot_ids:\n",
    "    # Find Uniprot data\n",
    "    uniprot_json = tmalign_mapping.find_uniprot(uniprot_df, uniprot_id)\n",
    "\n",
    "    # Get the uniprot domain info\n",
    "    domain_info = tmalign_mapping.get_domain_info_for_pdbs(uniprot_json, scop_df)\n",
    "\n",
    "    # Move PDBs to Uniprot folders\n",
    "    uniprot_path, zipped_status = tmalign_mapping.uniprot_to_pdb(uniprot_id, uniprot_df, zipped_status)\n",
    "\n",
    "    # Compare proteins in Uniprot folder\n",
    "    tmalign_mapping.compare_proteins_domain(uniprot_path, domain_info)"
   ]
  },
  {
   "cell_type": "markdown",
   "metadata": {},
   "source": [
    "# Checking the zip function "
   ]
  },
  {
   "cell_type": "code",
   "execution_count": 5,
   "metadata": {},
   "outputs": [],
   "source": [
    "def zip_cif_folder(directory):\n",
    "    for filename in os.listdir(directory):\n",
    "        if filename.endswith(\".cif\"):\n",
    "            filename_new = os.path.join(directory, filename)\n",
    "            os.remove(filename_new)"
   ]
  },
  {
   "cell_type": "code",
   "execution_count": 9,
   "metadata": {},
   "outputs": [],
   "source": [
    "def zip_mmcif_dir(directory):\n",
    "    for filename in os.listdir(directory):\n",
    "        new_dir = os.path.join(directory, filename)\n",
    "        if os.path.isdir(new_dir):\n",
    "            zip_cif_folder(new_dir)"
   ]
  },
  {
   "cell_type": "code",
   "execution_count": 7,
   "metadata": {},
   "outputs": [],
   "source": [
    "dir_path = \"/nfs/turbo/lsa-tewaria/mmCIF/hq\"\n",
    "zip_cif_folder(dir_path)"
   ]
  },
  {
   "cell_type": "code",
   "execution_count": 10,
   "metadata": {},
   "outputs": [],
   "source": [
    "zip_mmcif_dir(\"/nfs/turbo/lsa-tewaria/mmCIF\")"
   ]
  },
  {
   "cell_type": "markdown",
   "metadata": {},
   "source": [
    "# Single uniprot ID "
   ]
  },
  {
   "cell_type": "code",
   "execution_count": 15,
   "metadata": {},
   "outputs": [
    {
     "name": "stderr",
     "output_type": "stream",
     "text": [
      "Warning! Cannot parse file: /nfs/turbo/lsa-tewaria/uniprot/CO5_HUMAN/1cfa.cif. Chain number 0.\n",
      "Warning! Cannot parse file: /nfs/turbo/lsa-tewaria/uniprot/CO5_HUMAN/4p39.cif. Chain number 0.\n",
      "Warning! Cannot parse file: /nfs/turbo/lsa-tewaria/uniprot/CO5_HUMAN/5b71.cif. Chain number 0.\n",
      "Warning! Cannot parse file: /nfs/turbo/lsa-tewaria/uniprot/CO5_HUMAN/5hcc.cif. Chain number 0.\n",
      "Warning! Cannot parse file: /nfs/turbo/lsa-tewaria/uniprot/CO5_HUMAN/5hcd.cif. Chain number 0.\n",
      "Warning! Cannot parse file: /nfs/turbo/lsa-tewaria/uniprot/CO5_HUMAN/5hce.cif. Chain number 0.\n",
      "Warning! Cannot parse file: /nfs/turbo/lsa-tewaria/uniprot/CO5_HUMAN/6rpt.cif. Chain number 0.\n",
      "Warning! Cannot parse file: /nfs/turbo/lsa-tewaria/uniprot/CO5_HUMAN/4p39.cif. Chain number 0.\n",
      "Warning! Cannot parse file: /nfs/turbo/lsa-tewaria/uniprot/CO5_HUMAN/5b71.cif. Chain number 0.\n",
      "Warning! Cannot parse file: /nfs/turbo/lsa-tewaria/uniprot/CO5_HUMAN/5hcc.cif. Chain number 0.\n",
      "Warning! Cannot parse file: /nfs/turbo/lsa-tewaria/uniprot/CO5_HUMAN/5hcd.cif. Chain number 0.\n",
      "Warning! Cannot parse file: /nfs/turbo/lsa-tewaria/uniprot/CO5_HUMAN/5hce.cif. Chain number 0.\n",
      "Warning! Cannot parse file: /nfs/turbo/lsa-tewaria/uniprot/CO5_HUMAN/6rpt.cif. Chain number 0.\n",
      "Warning! Cannot parse file: /nfs/turbo/lsa-tewaria/uniprot/CO5_HUMAN/4p39.cif. Chain number 0.\n",
      "Warning! Cannot parse file: /nfs/turbo/lsa-tewaria/uniprot/CO5_HUMAN/5b71.cif. Chain number 0.\n",
      "Warning! Cannot parse file: /nfs/turbo/lsa-tewaria/uniprot/CO5_HUMAN/5hcc.cif. Chain number 0.\n",
      "Warning! Cannot parse file: /nfs/turbo/lsa-tewaria/uniprot/CO5_HUMAN/5hcd.cif. Chain number 0.\n",
      "Warning! Cannot parse file: /nfs/turbo/lsa-tewaria/uniprot/CO5_HUMAN/5hce.cif. Chain number 0.\n",
      "Warning! Cannot parse file: /nfs/turbo/lsa-tewaria/uniprot/CO5_HUMAN/6rpt.cif. Chain number 0.\n",
      "/home/srayan/conformer-gen/tmalign_mapping.py:138: ParserWarning: Falling back to the 'python' engine because the 'c' engine does not support skipfooter; you can avoid this warning by specifying engine='python'.\n",
      "  tmalign_output = pd.read_csv(os.path.join(directory, raw_file), sep = \"\\t\", skipfooter = 1)\n",
      "Warning! Cannot parse file: /nfs/turbo/lsa-tewaria/uniprot/CO5_HUMAN/1kjs.cif. Chain number 0.\n",
      "Warning! Cannot parse file: /nfs/turbo/lsa-tewaria/uniprot/CO5_HUMAN/4uu9.cif. Chain number 0.\n",
      "Warning! Cannot parse file: /nfs/turbo/lsa-tewaria/uniprot/CO5_HUMAN/5b4p.cif. Chain number 0.\n",
      "Warning! Cannot parse file: /nfs/turbo/lsa-tewaria/uniprot/CO5_HUMAN/7y64.cif. Chain number 0.\n",
      "Warning! Cannot parse file: /nfs/turbo/lsa-tewaria/uniprot/CO5_HUMAN/8hk5.cif. Chain number 0.\n",
      "/home/srayan/conformer-gen/tmalign_mapping.py:138: ParserWarning: Falling back to the 'python' engine because the 'c' engine does not support skipfooter; you can avoid this warning by specifying engine='python'.\n",
      "  tmalign_output = pd.read_csv(os.path.join(directory, raw_file), sep = \"\\t\", skipfooter = 1)\n",
      "Warning! Cannot parse file: /nfs/turbo/lsa-tewaria/uniprot/CO5_HUMAN/3cu7.cif. Chain number 0.\n",
      "Warning! Cannot parse file: /nfs/turbo/lsa-tewaria/uniprot/CO5_HUMAN/3kls.cif. Chain number 0.\n",
      "Warning! Cannot parse file: /nfs/turbo/lsa-tewaria/uniprot/CO5_HUMAN/3km9.cif. Chain number 0.\n",
      "Warning! Cannot parse file: /nfs/turbo/lsa-tewaria/uniprot/CO5_HUMAN/3prx.cif. Chain number 0.\n",
      "Warning! Cannot parse file: /nfs/turbo/lsa-tewaria/uniprot/CO5_HUMAN/3pvm.cif. Chain number 0.\n",
      "Warning! Cannot parse file: /nfs/turbo/lsa-tewaria/uniprot/CO5_HUMAN/4a5w.cif. Chain number 0.\n",
      "Warning! Cannot parse file: /nfs/turbo/lsa-tewaria/uniprot/CO5_HUMAN/5i5k.cif. Chain number 0.\n",
      "Warning! Cannot parse file: /nfs/turbo/lsa-tewaria/uniprot/CO5_HUMAN/6h03.cif. Chain number 0.\n",
      "Warning! Cannot parse file: /nfs/turbo/lsa-tewaria/uniprot/CO5_HUMAN/6h04.cif. Chain number 0.\n",
      "Warning! Cannot parse file: /nfs/turbo/lsa-tewaria/uniprot/CO5_HUMAN/6rqj.cif. Chain number 0.\n",
      "Warning! Cannot parse file: /nfs/turbo/lsa-tewaria/uniprot/CO5_HUMAN/7ad6.cif. Chain number 0.\n",
      "Warning! Cannot parse file: /nfs/turbo/lsa-tewaria/uniprot/CO5_HUMAN/7ad7.cif. Chain number 0.\n",
      "Warning! Cannot parse file: /nfs/turbo/lsa-tewaria/uniprot/CO5_HUMAN/7nyc.cif. Chain number 0.\n",
      "Warning! Cannot parse file: /nfs/turbo/lsa-tewaria/uniprot/CO5_HUMAN/7nyd.cif. Chain number 0.\n",
      "Warning! Cannot parse file: /nfs/turbo/lsa-tewaria/uniprot/CO5_HUMAN/8b0f.cif. Chain number 0.\n",
      "Warning! Cannot parse file: /nfs/turbo/lsa-tewaria/uniprot/CO5_HUMAN/8b0g.cif. Chain number 0.\n",
      "Warning! Cannot parse file: /nfs/turbo/lsa-tewaria/uniprot/CO5_HUMAN/8b0h.cif. Chain number 0.\n",
      "Warning! Cannot parse file: /nfs/turbo/lsa-tewaria/uniprot/CO5_HUMAN/5i5k.cif. Chain number 0.\n",
      "Warning! Cannot parse file: /nfs/turbo/lsa-tewaria/uniprot/CO5_HUMAN/6h03.cif. Chain number 0.\n",
      "Warning! Cannot parse file: /nfs/turbo/lsa-tewaria/uniprot/CO5_HUMAN/6h04.cif. Chain number 0.\n",
      "Warning! Cannot parse file: /nfs/turbo/lsa-tewaria/uniprot/CO5_HUMAN/6rqj.cif. Chain number 0.\n",
      "Warning! Cannot parse file: /nfs/turbo/lsa-tewaria/uniprot/CO5_HUMAN/7ad6.cif. Chain number 0.\n",
      "Warning! Cannot parse file: /nfs/turbo/lsa-tewaria/uniprot/CO5_HUMAN/7ad7.cif. Chain number 0.\n",
      "Warning! Cannot parse file: /nfs/turbo/lsa-tewaria/uniprot/CO5_HUMAN/7nyc.cif. Chain number 0.\n",
      "Warning! Cannot parse file: /nfs/turbo/lsa-tewaria/uniprot/CO5_HUMAN/7nyd.cif. Chain number 0.\n",
      "Warning! Cannot parse file: /nfs/turbo/lsa-tewaria/uniprot/CO5_HUMAN/8b0f.cif. Chain number 0.\n",
      "Warning! Cannot parse file: /nfs/turbo/lsa-tewaria/uniprot/CO5_HUMAN/8b0g.cif. Chain number 0.\n",
      "Warning! Cannot parse file: /nfs/turbo/lsa-tewaria/uniprot/CO5_HUMAN/8b0h.cif. Chain number 0.\n",
      "/home/srayan/conformer-gen/tmalign_mapping.py:138: ParserWarning: Falling back to the 'python' engine because the 'c' engine does not support skipfooter; you can avoid this warning by specifying engine='python'.\n",
      "  tmalign_output = pd.read_csv(os.path.join(directory, raw_file), sep = \"\\t\", skipfooter = 1)\n"
     ]
    }
   ],
   "source": [
    "uniprot_json = tmalign_mapping.find_uniprot(uniprot_df, \"CO5_HUMAN\")\n",
    "domain_info = tmalign_mapping.get_domain_info_for_pdbs(uniprot_json, scop_df)\n",
    "uniprot_path= tmalign_mapping.uniprot_to_pdb_efficient(\"CO5_HUMAN\", uniprot_df, write = False)\n",
    "tmalign_mapping.compare_proteins_domain_efficient(\"/nfs/turbo/lsa-tewaria/uniprot/CO5_HUMAN\", domain_info)"
   ]
  },
  {
   "cell_type": "markdown",
   "metadata": {},
   "source": [
    "# Single Uniprot ID - with cutting business, Comparing proteins with the same domains"
   ]
  }
 ],
 "metadata": {
  "kernelspec": {
   "display_name": "genIP",
   "language": "python",
   "name": "python3"
  },
  "language_info": {
   "codemirror_mode": {
    "name": "ipython",
    "version": 3
   },
   "file_extension": ".py",
   "mimetype": "text/x-python",
   "name": "python",
   "nbconvert_exporter": "python",
   "pygments_lexer": "ipython3",
   "version": "3.10.13"
  }
 },
 "nbformat": 4,
 "nbformat_minor": 2
}
