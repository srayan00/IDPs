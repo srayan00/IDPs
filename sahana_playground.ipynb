{
 "cells": [
  {
   "cell_type": "code",
   "execution_count": 2,
   "metadata": {},
   "outputs": [],
   "source": [
    "import pandas as pd\n",
    "import numpy as np\n",
    "import os\n",
    "import sys\n",
    "import gzip\n",
    "import shutil\n",
    "import json\n",
    "import re\n",
    "import tmalign_mapping"
   ]
  },
  {
   "cell_type": "markdown",
   "metadata": {},
   "source": [
    "# Zip Status"
   ]
  },
  {
   "cell_type": "code",
   "execution_count": 3,
   "metadata": {},
   "outputs": [],
   "source": [
    "# Zip status\n",
    "zipped_status_path = \"/nfs/turbo/lsa-tewaria/zipped_status.csv\"\n",
    "if not os.path.exists(zipped_status_path):\n",
    "    list_mmcifs = os.listdir(\"/nfs/turbo/lsa-tewaria/mmCIF/\")\n",
    "    zipped_status = pd.DataFrame({\"status\" : [True for i in range(len(list_mmcifs))]}, index = list_mmcifs)\n",
    "    zipped_status.to_csv(zipped_status_path)\n",
    "else:\n",
    "    zipped_status = pd.read_csv(zipped_status_path, index_col = 0)"
   ]
  },
  {
   "cell_type": "markdown",
   "metadata": {},
   "source": [
    "# Uniprot to pdb mappings"
   ]
  },
  {
   "cell_type": "code",
   "execution_count": 4,
   "metadata": {},
   "outputs": [],
   "source": [
    "# Load dataframe PDBs to Uniprot\n",
    "uniprot_pdb_path = \"/nfs/turbo/lsa-tewaria/uniprot_df_small.csv\"\n",
    "uniprot_df = pd.read_csv(uniprot_pdb_path)"
   ]
  },
  {
   "cell_type": "markdown",
   "metadata": {},
   "source": [
    "# Scop data"
   ]
  },
  {
   "cell_type": "code",
   "execution_count": 5,
   "metadata": {},
   "outputs": [],
   "source": [
    "# Load Scop data\n",
    "scop_df = tmalign_mapping.read_scop_file()"
   ]
  },
  {
   "cell_type": "markdown",
   "metadata": {},
   "source": [
    "# Single Uniprot ID - Not smart edition. All to All TM align"
   ]
  },
  {
   "cell_type": "code",
   "execution_count": 6,
   "metadata": {},
   "outputs": [
    {
     "name": "stderr",
     "output_type": "stream",
     "text": [
      "/home/srayan/conformer-gen/tmalign_mapping.py:97: ParserWarning: Falling back to the 'python' engine because the 'c' engine does not support skipfooter; you can avoid this warning by specifying engine='python'.\n",
      "  tmalign_output = pd.read_csv(os.path.join(directory, raw_file), sep = \"\\t\", skipfooter = 1)\n"
     ]
    }
   ],
   "source": [
    "# # Move PDBs to Uniprot folders\n",
    "uniprot_path, zipped_status = tmalign_mapping.uniprot_to_pdb(\"CHEY_ECOLI\", uniprot_df, zipped_status)\n",
    "\n",
    "# Compare proteins in Uniprot folder\n",
    "tmalign_mapping.compare_proteins_dir(uniprot_path)\n",
    "\n",
    "# Clean TMalign output\n",
    "tmalign_mapping.clean_TMalign_output(uniprot_path)\n",
    "\n",
    "# Save zipped status\n",
    "zipped_status.to_csv(zipped_status_path)"
   ]
  },
  {
   "cell_type": "markdown",
   "metadata": {},
   "source": [
    "# Single Uniprot ID - smart edition"
   ]
  },
  {
   "cell_type": "code",
   "execution_count": 7,
   "metadata": {},
   "outputs": [
    {
     "name": "stderr",
     "output_type": "stream",
     "text": [
      "/home/srayan/conformer-gen/tmalign_mapping.py:97: ParserWarning: Falling back to the 'python' engine because the 'c' engine does not support skipfooter; you can avoid this warning by specifying engine='python'.\n",
      "  tmalign_output = pd.read_csv(os.path.join(directory, raw_file), sep = \"\\t\", skipfooter = 1)\n"
     ]
    }
   ],
   "source": [
    "uniprot_json = tmalign_mapping.find_uniprot(uniprot_df, \"CO5_HUMAN\")\n",
    "domain_info = tmalign_mapping.get_domain_info_for_pdbs(uniprot_json, scop_df)\n",
    "uniprot_path, zipped_status = tmalign_mapping.uniprot_to_pdb(\"CO5_HUMAN\", uniprot_df, zipped_status)\n",
    "tmalign_mapping.compare_proteins_domain(\"/nfs/turbo/lsa-tewaria/uniprot/CO5_HUMAN\", domain_info)"
   ]
  }
 ],
 "metadata": {
  "kernelspec": {
   "display_name": "genIP",
   "language": "python",
   "name": "python3"
  },
  "language_info": {
   "codemirror_mode": {
    "name": "ipython",
    "version": 3
   },
   "file_extension": ".py",
   "mimetype": "text/x-python",
   "name": "python",
   "nbconvert_exporter": "python",
   "pygments_lexer": "ipython3",
   "version": "3.6.13"
  }
 },
 "nbformat": 4,
 "nbformat_minor": 2
}
